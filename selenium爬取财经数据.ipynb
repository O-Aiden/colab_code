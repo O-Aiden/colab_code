{
  "nbformat": 4,
  "nbformat_minor": 0,
  "metadata": {
    "colab": {
      "name": "selenium爬取财经数据.ipynb",
      "provenance": [],
      "authorship_tag": "ABX9TyMYqDmmM3zaPqjMUiVZrjFG",
      "include_colab_link": true
    },
    "kernelspec": {
      "name": "python3",
      "display_name": "Python 3"
    },
    "language_info": {
      "name": "python"
    }
  },
  "cells": [
    {
      "cell_type": "markdown",
      "metadata": {
        "id": "view-in-github",
        "colab_type": "text"
      },
      "source": [
        "<a href=\"https://colab.research.google.com/github/O-Aiden/colab_code/blob/main/selenium%E7%88%AC%E5%8F%96%E8%B4%A2%E7%BB%8F%E6%95%B0%E6%8D%AE.ipynb\" target=\"_parent\"><img src=\"https://colab.research.google.com/assets/colab-badge.svg\" alt=\"Open In Colab\"/></a>"
      ]
    },
    {
      "cell_type": "markdown",
      "metadata": {
        "id": "5XwnyB-EDgCR"
      },
      "source": [
        "# 9.4 巨潮资讯网数据挖掘实战"
      ]
    },
    {
      "cell_type": "code",
      "metadata": {
        "colab": {
          "base_uri": "https://localhost:8080/"
        },
        "id": "f7WMToHoDfgQ",
        "outputId": "2ef5370e-7838-4cc1-8e40-036007b428d0"
      },
      "source": [
        " \n",
        "# =============================================================================\n",
        "# 9.4 巨潮资讯网数据挖掘实战 by 王宇韬 代码更新：www.huaxiaozhi.com 资料下载区\n",
        "# =============================================================================\n",
        " \n",
        "from selenium import webdriver\n",
        "import re\n",
        " \n",
        " \n",
        "def juchao(keyword):\n",
        "    chrome_options = webdriver.ChromeOptions()\n",
        "    chrome_options.add_argument('--headless')\n",
        "    chrome_options.add_argument('--no-sandbox')\n",
        "    chrome_options.add_argument('--disable-dev-shm-usage')\n",
        "    browser = webdriver.Chrome('chromedriver',chrome_options=chrome_options)  \n",
        "    browser.get('http://wenshu.court.gov.cn/')\n",
        "    url = 'http://www.cninfo.com.cn/new/fulltextSearch?notautosubmit=&keyWord=' + keyword\n",
        "    browser.get(url)\n",
        "    data = browser.page_source\n",
        "    # print(data)\n",
        "    browser.quit()\n",
        " \n",
        "    # 巨潮网网页结构调整后的正则表达式代码（2019-12-31日改）\n",
        "    p_title = '<span title=\"\" class=\"r-title\">(.*?)</span>'\n",
        "    p_href = '<a target=\"_blank\" href=\"(.*?)\" data-id='\n",
        "    p_date = '<span class=\"time\">(.*?)</span>'\n",
        "    title = re.findall(p_title, data)\n",
        "    href = re.findall(p_href, data)\n",
        "    date = re.findall(p_date, data, re.S)  # 注意(.*?)中有换行（/n），而常规的(.*?)匹配不了换行，所以需要加上re.S取消换行的影响\n",
        " \n",
        "    for i in range(len(title)):\n",
        "        title[i] = re.sub(r'<.*?>', '', title[i])\n",
        "        href[i] = 'http://www.cninfo.com.cn' + href[i]\n",
        "        href[i] = re.sub('amp;', '', href[i])\n",
        "        date[i] = date[i].strip()  # 清除空格和换行符\n",
        "        date[i] = date[i].split(' ')[0]  # 只取“年月日”信息，不用“时分秒”信息\n",
        "        print(str(i + 1) + '.' + title[i] + ' - ' + date[i])\n",
        "        print(href[i])\n",
        " \n",
        " \n",
        "keywords = ['理财', '现金管理', '纾困']\n",
        "for i in keywords:\n",
        "    juchao(i)"
      ],
      "execution_count": 14,
      "outputs": [
        {
          "output_type": "stream",
          "text": [
            "/usr/local/lib/python3.7/dist-packages/ipykernel_launcher.py:15: DeprecationWarning: use options instead of chrome_options\n",
            "  from ipykernel import kernelapp as app\n"
          ],
          "name": "stderr"
        },
        {
          "output_type": "stream",
          "text": [
            "1.奥拓电子：中信证券股份有限公司关于公司运用自有闲置资金购买理财产品事项的核查意见 - 2021-04-21\n",
            "http://www.cninfo.com.cn/new/disclosure/detail?orgId=jjjl0000090&announcementId=1209778941&announcementTime=2021-04-21 16:00\n",
            "2.瑞丰高材：关于控股子公司使用闲置自有资金购买理财产品的公告 - 2021-04-21\n",
            "http://www.cninfo.com.cn/new/disclosure/detail?orgId=jjjl0000090&announcementId=1209778942&announcementTime=2021-04-21 16:00\n",
            "3.洪汇新材：关于使用部分自有闲置资金购买理财产品或结构性存款的公告 - 2021-04-20\n",
            "http://www.cninfo.com.cn/new/disclosure/detail?orgId=jjjl0000090&announcementId=1209764671&announcementTime=2021-04-20 16:00\n",
            "4.伟思医疗：南京伟思医疗科技股份有限公司关于开立理财产品专用结算账户的公告 - 2021-04-20\n",
            "http://www.cninfo.com.cn/new/disclosure/detail?orgId=jjjl0000090&announcementId=1209752270&announcementTime=2021-04-20 16:00\n",
            "5.深冷股份：关于使用闲置自有资金购买理财产品的公告 - 2021-04-15\n",
            "http://www.cninfo.com.cn/new/disclosure/detail?orgId=jjjl0000090&announcementId=1209718867&announcementTime=2021-04-15 16:00\n",
            "6.大洋电机：关于使用闲置自有资金购买银行理财产品的公告 - 2021-04-27\n",
            "http://www.cninfo.com.cn/new/disclosure/detail?orgId=9900020087&announcementId=1209824556&announcementTime=2021-04-27 03:50\n",
            "7.君正集团：君正集团关于使用自有资金进行委托理财的公告 - 2021-04-26\n",
            "http://www.cninfo.com.cn/new/disclosure/detail?orgId=9900020227&announcementId=1209807532&announcementTime=2021-04-26 16:00\n",
            "8.精测电子：招商证券股份有限公司关于武汉精测电子集团股份有限公司及子公司2021年度使用自有闲置资金进行委托理财事项的核查意见 - 2021-04-26\n",
            "http://www.cninfo.com.cn/new/disclosure/detail?orgId=9900024761&announcementId=1209807786&announcementTime=2021-04-26 16:00\n",
            "9.精测电子：武汉精测电子集团股份有限公司关于公司及子公司2021年度使用自有闲置资金进行委托理财的公告 - 2021-04-26\n",
            "http://www.cninfo.com.cn/new/disclosure/detail?orgId=gfbj0836154&announcementId=1209808608&announcementTime=2021-04-26 16:00\n",
            "10.浙农股份：关于公司2021年度使用闲置自有资金进行投资理财的公告 - 2021-04-26\n",
            "http://www.cninfo.com.cn/new/disclosure/detail?orgId=9900029001&announcementId=1209808850&announcementTime=2021-04-26 16:00\n"
          ],
          "name": "stdout"
        },
        {
          "output_type": "stream",
          "text": [
            "/usr/local/lib/python3.7/dist-packages/ipykernel_launcher.py:15: DeprecationWarning: use options instead of chrome_options\n",
            "  from ipykernel import kernelapp as app\n"
          ],
          "name": "stderr"
        },
        {
          "output_type": "stream",
          "text": [
            "1.创业黑马：关于使用部分闲置募集资金进行现金管理的公告 - 2019-05-06\n",
            "http://www.cninfo.com.cn/new/disclosure/detail?orgId=jjjl0000080&announcementId=1206235297&announcementTime=2019-05-06 16:00\n",
            "2.创业黑马：民生证券股份有限公司关于创业黑马科技集团股份有限公司使用闲置自有资金和募集资金进行现金管理的核查意见 - 2019-04-25\n",
            "http://www.cninfo.com.cn/new/disclosure/detail?orgId=jjjl0000080&announcementId=1206112537&announcementTime=2019-04-25 16:00\n",
            "3.绝味食品：绝味食品关于使用闲置募集资金进行现金管理的公告 - 2019-04-14\n",
            "http://www.cninfo.com.cn/new/disclosure/detail?orgId=jjjl0000080&announcementId=1206017796&announcementTime=2019-04-14 16:00\n",
            "4.海川智能：关于增加自有资金进行现金管理额度的公告 - 2019-04-12\n",
            "http://www.cninfo.com.cn/new/disclosure/detail?orgId=jjjl0000080&announcementId=1206017549&announcementTime=2019-04-12 16:00\n",
            "5.华峰铝业：兴业证券股份有限公司关于上海华峰铝业股份有限公司使用部分闲置自有资金进行现金管理的核查意见 - 2019-04-10\n",
            "http://www.cninfo.com.cn/new/disclosure/detail?orgId=jjjl0000080&announcementId=1206012231&announcementTime=2019-04-10 16:00\n",
            "6.新坐标：新坐标关于使用暂时闲置募集资金进行现金管理的公告 - 2021-04-27\n",
            "http://www.cninfo.com.cn/new/disclosure/detail?orgId=9900032726&announcementId=1209824560&announcementTime=2021-04-27 03:51\n",
            "7.新坐标：国信证券股份有限公司关于杭州新坐标科技股份有限公司使用闲置募集资金进行现金管理的核查意见 - 2021-04-27\n",
            "http://www.cninfo.com.cn/new/disclosure/detail?orgId=9900032726&announcementId=1209824565&announcementTime=2021-04-27 03:51\n",
            "8.永新光学：宁波永新光学股份有限公司关于使用部分闲置自有资金进行现金管理的进展公告 - 2021-04-26\n",
            "http://www.cninfo.com.cn/new/disclosure/detail?orgId=9900029519&announcementId=1209807229&announcementTime=2021-04-26 16:00\n",
            "9.奥普家居：奥普家居关于使用闲置自有资金进行现金管理的公告 - 2021-04-26\n",
            "http://www.cninfo.com.cn/new/disclosure/detail?orgId=9900033188&announcementId=1209809305&announcementTime=2021-04-26 16:00\n",
            "10.青鸟消防：关于使用部分闲置自有资金进行现金管理的进展公告 - 2021-04-26\n",
            "http://www.cninfo.com.cn/new/disclosure/detail?orgId=9900038468&announcementId=1209810083&announcementTime=2021-04-26 16:00\n"
          ],
          "name": "stdout"
        },
        {
          "output_type": "stream",
          "text": [
            "/usr/local/lib/python3.7/dist-packages/ipykernel_launcher.py:15: DeprecationWarning: use options instead of chrome_options\n",
            "  from ipykernel import kernelapp as app\n"
          ],
          "name": "stderr"
        },
        {
          "output_type": "stream",
          "text": [
            "1.ST浩源：关于《控股股东纾困暨股票收购意向书》进展风险提示公告 - 2021-03-01\n",
            "http://www.cninfo.com.cn/new/disclosure/detail?orgId=9900016467&announcementId=1209329624&announcementTime=2021-03-01 16:00\n",
            "2.北京市朝阳区经营管理中心2019年公开发行纾困专项公司债券（第一期）2021年付息公告 - 2021-02-24\n",
            "http://www.cninfo.com.cn/new/disclosure/detail?orgId=9900016467&announcementId=1209307819&announcementTime=2021-02-24 16:00\n",
            "3.ST浩源：控股股东及关联方关于签订纾困暨股票收购意向书的公告 - 2021-02-17\n",
            "http://www.cninfo.com.cn/new/disclosure/detail?orgId=9900016467&announcementId=1209279896&announcementTime=2021-02-17 16:00\n",
            "4.20港纾01：郑州航空港兴港投资集团有限公司2020年面向合格投资者公开发行纾困专项公司债券（第一期） - 2021-02-17\n",
            "http://www.cninfo.com.cn/new/disclosure/detail?orgId=9900016467&announcementId=1209282024&announcementTime=2021-02-17 16:00\n",
            "5.19珠纾02：珠海金融投资控股集团有限公司2019年面向合格投资者公开发行纾困专项债券（第一期）（品种二 - 2021-02-09\n",
            "http://www.cninfo.com.cn/new/disclosure/detail?orgId=9900016467&announcementId=1209271021&announcementTime=2021-02-09 16:00\n",
            "6.杭州市金融投资集团有限公司2019年公开发行纾困专项公司债券(第一期)(品种一)2021年付息公告 - 2021-04-21\n",
            "http://www.cninfo.com.cn/new/disclosure/detail?orgId=9900023125&announcementId=1209757282&announcementTime=2021-04-21 16:00\n",
            "7.北京亦庄国际投资发展有限公司2020年公开发行纾困专项公司债券(第一期)2021年付息公告 - 2021-04-19\n",
            "http://www.cninfo.com.cn/new/disclosure/detail?orgId=9900011207&announcementId=1209749092&announcementTime=2021-04-19 16:00\n",
            "8.迅游科技：关于董事股份减持计划期限届满暨纾困进展的公告 - 2021-03-31\n",
            "http://www.cninfo.com.cn/new/disclosure/detail?orgId=9900023125&announcementId=1209566747&announcementTime=2021-03-31 16:00\n",
            "9.关于为株洲市城市建设发展集团有限公司2021年非公开发行纾困专项公司债券（第一期）（品种一）提供转让服务有关事项的通知 - 2021-03-17\n",
            "http://www.cninfo.com.cn/new/disclosure/detail?orgId=9900033296&announcementId=1209401398&announcementTime=2021-03-17 08:26\n",
            "10.平安证券关于亦庄国投纾困公司债券2021年第一次临时受托报告 - 2021-03-16\n",
            "http://www.cninfo.com.cn/new/disclosure/detail?orgId=9900043451&announcementId=1209392615&announcementTime=2021-03-16 08:30\n"
          ],
          "name": "stdout"
        }
      ]
    },
    {
      "cell_type": "markdown",
      "metadata": {
        "id": "Own7SIzOCB-b"
      },
      "source": [
        "#  9.3 裁判文书网数据挖掘实战"
      ]
    },
    {
      "cell_type": "code",
      "metadata": {
        "id": "Ho3xUe6GCBZc"
      },
      "source": [
        "# =============================================================================\n",
        "# 9.3 裁判文书网数据挖掘实战 by 王宇韬 代码更新：www.huaxiaozhi.com 资料下载区\n",
        "# =============================================================================\n",
        "'''2019年8月份之后裁判文书网改版，其反爬非常强，所以模拟键盘鼠标操作后等待很久也等不到刷新，\n",
        "所以这里主要给大家练习下如何通过selenium库模拟键盘鼠标操作。'''\n",
        "from selenium import webdriver\n",
        "import time\n",
        "chrome_options = webdriver.ChromeOptions()\n",
        "chrome_options.add_argument('--headless')\n",
        "chrome_options.add_argument('--no-sandbox')\n",
        "chrome_options.add_argument('--disable-dev-shm-usage')\n",
        "chrome_options.add_argument('--disable-dev-shm-usage')\n",
        "browser =webdriver.Chrome('chromedriver',chrome_options=chrome_options)  \n",
        "browser.get('http://wenshu.court.gov.cn/')\n",
        "browser.maximize_window()\n",
        "browser.find_element_by_xpath('//*[@id=\"_view_1540966814000\"]/div/div[1]/div[2]/input').clear()  # 清空原搜索框\n",
        "browser.find_element_by_xpath('//*[@id=\"_view_1540966814000\"]/div/div[1]/div[2]/input').send_keys('房地产')  # 在搜索框内模拟输入'房地产'三个字\n",
        "browser.find_element_by_xpath('//*[@id=\"_view_1540966814000\"]/div/div[1]/div[3]').click()  # 点击搜索按钮\n",
        "time.sleep(10)  # 现在裁判文书网反爬非常厉害，所以可能等待也等不到刷新，所以这里主要给大家练习下模拟键盘鼠标操作\n",
        "data = browser.page_source\n",
        "browser.quit()\n",
        "print(data)"
      ],
      "execution_count": null,
      "outputs": []
    },
    {
      "cell_type": "markdown",
      "metadata": {
        "id": "Ku-fpkdT9XYz"
      },
      "source": [
        " # 9.2 东方财富网数据挖掘实战"
      ]
    },
    {
      "cell_type": "code",
      "metadata": {
        "colab": {
          "base_uri": "https://localhost:8080/"
        },
        "id": "2GtyZ4QW9WkX",
        "outputId": "4f246099-764c-4d00-eea4-53a58db46273"
      },
      "source": [
        " \n",
        "# =============================================================================\n",
        "# 9.2 东方财富网数据挖掘实战 by 王宇韬 代码更新：www.huaxiaozhi.com 资料下载区\n",
        "# =============================================================================\n",
        " \n",
        "from selenium import webdriver\n",
        "import re\n",
        "import time\n",
        "import random\n",
        " \n",
        " \n",
        "def dongfang(company):\n",
        "    chrome_options = webdriver.ChromeOptions()\n",
        " \n",
        "    chrome_options.add_argument('--headless')\n",
        "    chrome_options.add_argument('--no-sandbox')\n",
        "    chrome_options.add_argument('--disable-dev-shm-usage')\n",
        "    chrome_options.add_argument('--disable-dev-shm-usage')\n",
        "    browser =webdriver.Chrome('chromedriver',chrome_options=chrome_options)  # 这里改成了有界面模式，方便调试代码\n",
        "    url = 'http://so.eastmoney.com/news/s?keyword=' + company\n",
        "    browser.get(url)\n",
        "    data = browser.page_source\n",
        "    browser.quit()\n",
        "    # print(data)  # 如果正则发生变化，可以通过打印源代码进行调试\n",
        " \n",
        "    p_title = '<div class=\"news-item\"><h3><a href=\".*?\">(.*?)</a>'\n",
        "    p_href = '<div class=\"news-item\"><h3><a href=\"(.*?)\">.*?</a>'\n",
        "    p_date = '<p class=\"news-desc\">(.*?)</p>'\n",
        "    title = re.findall(p_title, data)\n",
        "    href = re.findall(p_href, data)\n",
        "    date = re.findall(p_date, data, re.S)\n",
        " \n",
        "    for i in range(len(title)):\n",
        "        title[i] = re.sub('<.*?>', '', title[i])\n",
        "        date[i] = date[i].split(' ')[0]\n",
        "        print(str(i+1) + '.' + title[i] + ' - '+ date[i])\n",
        "        print(href[i])\n",
        " \n",
        " \n",
        "dongfang('贵州茅台')  # 可以通过它来调试，如果没问题，再通过下面的代码批量运行\n",
        " \n",
        "# companys = ['华能信托', '阿里巴巴', '腾讯', '京东', '万科']\n",
        "# for i in companys:\n",
        "      #b = random.randint(3,6)\n",
        "      #time.sleep(b)\n",
        "#     try:\n",
        "#         dongfang(i)\n",
        "#         print(i + '该公司东方财富网爬取成功')\n",
        "#     except:\n",
        "#         print(i + '该公司东方财富网爬取失败')"
      ],
      "execution_count": 9,
      "outputs": [
        {
          "output_type": "stream",
          "text": [
            "/usr/local/lib/python3.7/dist-packages/ipykernel_launcher.py:19: DeprecationWarning: use options instead of chrome_options\n"
          ],
          "name": "stderr"
        },
        {
          "output_type": "stream",
          "text": [
            "1.食品饮料行业白酒周报：财报密集周迎白酒开门红 消费淡季做市场纷至沓来 - 2021-04-27\n",
            "http://finance.eastmoney.com/a/202104271902390087.html\n",
            "2.基金理财日报：基金一季度调仓路径揭晓 茅台五粮液仍是最爱 - 2021-04-27\n",
            "http://money.eastmoney.com/a/202104271902348847.html\n",
            "3.股指日报：A股冲高回落 两市成交量有所放大 - 2021-04-27\n",
            "http://futures.eastmoney.com/a/202104271902203571.html\n",
            "4.融资融券周报2021年第16周 - 2021-04-27\n",
            "http://futures.eastmoney.com/a/202104271902085074.html\n",
            "5.北向资金大幅减持股名单 - 2021-04-27\n",
            "http://finance.eastmoney.com/a/202104271902058590.html\n",
            "6.锐叔论市   调整周期或已开启 这波到哪？ - 2021-04-27\n",
            "http://stock.eastmoney.com/a/202104271902025755.html\n",
            "7.2021年1季度主动股票基金季报分析：千亿管理规模基金经理再添一位 主动权益基金仓位有所下降 - 2021-04-27\n",
            "http://futures.eastmoney.com/a/202104271901979816.html\n",
            "8.新三板蓝筹股商客通：2020年净利增长53% 分红力度连续4年超过山西汾酒 - 2021-04-27\n",
            "http://finance.eastmoney.com/a/202104271901977269.html\n",
            "9.北向资金单日净流入32.04亿！加仓这些板块 - 2021-04-27\n",
            "http://stock.eastmoney.com/a/202104271901926692.html\n",
            "10.德讯证顾：大盘风格切换 节前调仓换股 - 2021-04-27\n",
            "http://finance.eastmoney.com/a/202104271901828042.html\n"
          ],
          "name": "stdout"
        }
      ]
    },
    {
      "cell_type": "markdown",
      "metadata": {
        "id": "Gjg3zBwU9OhK"
      },
      "source": [
        "# 9.1 爬取新浪财经股票数据"
      ]
    },
    {
      "cell_type": "code",
      "metadata": {
        "id": "DvhIuVL0xnGe"
      },
      "source": [
        "!pip install selenium\n",
        "!apt-get update \n",
        "!apt install chromium-chromedriver"
      ],
      "execution_count": null,
      "outputs": []
    },
    {
      "cell_type": "code",
      "metadata": {
        "colab": {
          "base_uri": "https://localhost:8080/"
        },
        "id": "rEr6eMZ1yQGa",
        "outputId": "a5aa9560-dabf-4f50-ef80-66987b86d0fd"
      },
      "source": [
        " \n",
        " import re\n",
        "from selenium import webdriver\n",
        "chrome_options = webdriver.ChromeOptions()\n",
        " \n",
        "chrome_options.add_argument('--headless')\n",
        "chrome_options.add_argument('--no-sandbox')\n",
        "chrome_options.add_argument('--disable-dev-shm-usage')\n",
        "chrome_options.add_argument('--disable-dev-shm-usage')\n",
        "browser =webdriver.Chrome('chromedriver',chrome_options=chrome_options)"
      ],
      "execution_count": null,
      "outputs": [
        {
          "output_type": "stream",
          "text": [
            "/usr/local/lib/python3.7/dist-packages/ipykernel_launcher.py:10: DeprecationWarning: use options instead of chrome_options\n",
            "  # Remove the CWD from sys.path while we load stuff.\n"
          ],
          "name": "stderr"
        }
      ]
    },
    {
      "cell_type": "code",
      "metadata": {
        "colab": {
          "base_uri": "https://localhost:8080/"
        },
        "id": "SWYU2QKCzQch",
        "outputId": "583f161b-8dd0-4124-c5d1-8aa5418e9079"
      },
      "source": [
        "browser.get('http://finance.sina.com.cn/realstock/company/sh000001/nc.shtml')\n",
        "data = browser.page_source\n",
        "# print(data)\n",
        "browser.quit()\n",
        "p_price = '<div id=\"price\" class=\".*?\">(.*?)</div>'\n",
        "price = re.findall(p_price, data)\n",
        "print(price)"
      ],
      "execution_count": null,
      "outputs": [
        {
          "output_type": "stream",
          "text": [
            "['3428.87']\n"
          ],
          "name": "stdout"
        }
      ]
    }
  ]
}