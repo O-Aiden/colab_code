{
  "nbformat": 4,
  "nbformat_minor": 0,
  "metadata": {
    "colab": {
      "name": "10.1 批量下载巨潮资讯网理财公告.ipynb",
      "provenance": [],
      "authorship_tag": "ABX9TyNIzlTbz/img3Aptwo3R2Pu",
      "include_colab_link": true
    },
    "kernelspec": {
      "name": "python3",
      "display_name": "Python 3"
    },
    "language_info": {
      "name": "python"
    }
  },
  "cells": [
    {
      "cell_type": "markdown",
      "metadata": {
        "id": "view-in-github",
        "colab_type": "text"
      },
      "source": [
        "<a href=\"https://colab.research.google.com/github/O-Aiden/colab_code/blob/main/10_1_%E6%89%B9%E9%87%8F%E4%B8%8B%E8%BD%BD%E5%B7%A8%E6%BD%AE%E8%B5%84%E8%AE%AF%E7%BD%91%E7%90%86%E8%B4%A2%E5%85%AC%E5%91%8A.ipynb\" target=\"_parent\"><img src=\"https://colab.research.google.com/assets/colab-badge.svg\" alt=\"Open In Colab\"/></a>"
      ]
    },
    {
      "cell_type": "code",
      "metadata": {
        "id": "Bd_KY8vUKQS8"
      },
      "source": [
        "!pip install selenium\n",
        "!apt-get update \n",
        "!apt install chromium-chromedriver\n",
        "!pip install easydl\n",
        "from easydl import clear_output\n",
        "clear_output() # 清除输出"
      ],
      "execution_count": 4,
      "outputs": []
    },
    {
      "cell_type": "code",
      "metadata": {
        "colab": {
          "base_uri": "https://localhost:8080/"
        },
        "id": "2SErlk6VJTSr",
        "outputId": "79305a34-9916-4409-e805-29efff04d400"
      },
      "source": [
        " \n",
        "# =============================================================================\n",
        "# 10.1 批量下载巨潮资讯网理财公告 by 王宇韬 代码更新：www.huaxiaozhi.com 资料下载区\n",
        "# =============================================================================\n",
        " \n",
        "from selenium import webdriver\n",
        "import re\n",
        "import time\n",
        "chrome_options = webdriver.ChromeOptions()\n",
        "chrome_options.add_argument('--headless')\n",
        "chrome_options.add_argument('--no-sandbox')\n",
        "chrome_options.add_argument('--disable-dev-shm-usage')\n",
        "browser = webdriver.Chrome('chromedriver',chrome_options=chrome_options)  \n",
        "    \n",
        "url = 'http://www.cninfo.com.cn/new/fulltextSearch?notautosubmit=&keyWord=理财'\n",
        "browser.get(url)\n",
        "time.sleep(3)\n",
        "data = browser.page_source\n",
        "p_count = '<span class=\"total-box\" style=\"\">约(.*?)条'\n",
        "count = re.findall(p_count, data)[0]  # 获取公告个数，注意这里要加一个[0],因为findall返回的是一个列表\n",
        "pages = int(int(count)/10)\n",
        " \n",
        "# 1.自动翻页获取源码源代码\n",
        "datas = []\n",
        "datas.append(data)  # 这边是把第一页源代码先放到datas这个列表里\n",
        "for i in range(3):  # 这边为了演示改成了range(3)，想爬全部的话改成range(pages)\n",
        "    browser.find_element_by_xpath('//*[@id=\"fulltext-search\"]/div/div[1]/div[2]/div[4]/div[2]/div/button[2]').click()\n",
        "    time.sleep(2)\n",
        "    data = browser.page_source\n",
        "    datas.append(data)\n",
        "    time.sleep(1)\n",
        "alldata = \"\".join(datas)\n",
        "browser.quit()\n",
        " \n",
        "# 2.编写正则表达式\n",
        "p_title = '<span title=\"\" class=\"r-title\">(.*?)</span>'\n",
        "p_href = '<a target=\"_blank\" href=\"(.*?)\" data-id='\n",
        "p_date = '<span class=\"time\">(.*?)</span>'\n",
        "title = re.findall(p_title, alldata)\n",
        "href = re.findall(p_href, alldata)\n",
        "date = re.findall(p_date, alldata, re.S)\n",
        " \n",
        "print(title, href, date)\n",
        " \n",
        "# 3.清洗数据\n",
        "for i in range(len(title)):\n",
        "    title[i] = re.sub('<.*?>', '', title[i])\n",
        "    href[i] = 'http://www.cninfo.com.cn' + href[i]\n",
        "    href[i] = re.sub('amp;', '', href[i])\n",
        "    date[i] = date[i].strip()\n",
        "    date[i] = date[i].split(' ')[0]\n",
        "    print(str(i + 1) + '.' + title[i] + ' - ' + date[i])\n",
        "    print(href[i])"
      ],
      "execution_count": 5,
      "outputs": [
        {
          "output_type": "stream",
          "text": [
            "['奥拓电子：中信证券股份有限公司关于公司运用自有闲置资金购买<em>理财</em>产品事项的核查意见', '瑞丰高材：关于控股子公司使用闲置自有资金购买<em>理财</em>产品的公告', '洪汇新材：关于使用部分自有闲置资金购买<em>理财</em>产品或结构性存款的公告', '伟思医疗：南京伟思医疗科技股份有限公司关于开立<em>理财</em>产品专用结算账户的公告', '深冷股份：关于使用闲置自有资金购买<em>理财</em>产品的公告', '大洋电机：关于使用闲置自有资金购买银行<em>理财</em>产品的公告', '君正集团：君正集团关于使用自有资金进行委托<em>理财</em>的公告', '精测电子：招商证券股份有限公司关于武汉精测电子集团股份有限公司及子公司2021年度使用自有闲置资金进行委托<em>理财</em>事项的核查意见', '精测电子：武汉精测电子集团股份有限公司关于公司及子公司2021年度使用自有闲置资金进行委托<em>理财</em>的公告', '浙农股份：关于公司2021年度使用闲置自有资金进行投资<em>理财</em>的公告', '世嘉科技：关于使用部分闲置自有资金购买<em>理财</em>产品的进展公告', '安硕信息：关于使用闲置自有资金购买<em>理财</em>产品的公告', '九洲集团：关于使用暂时闲置资金购买银行<em>理财</em>产品的公告', '内蒙一机：内蒙古第一机械集团股份有限公司关于使用部分暂时闲置募集资金投资<em>理财</em>产品的公告', '内蒙一机：内蒙一机独立董事关于使用部分暂时闲置自有资金与关联方共同投资<em>理财</em>产品的事前认可意见+签章页', '杰克股份：关于2021年度委托<em>理财</em>的公告', '顶点软件：顶点软件关于2021年第一季度使用闲置自有资金购买<em>理财</em>产品的汇总公告', '英维克：关于使用闲置自有资金购买<em>理财</em>产品的公告', '中信证券股份有限公司关于北京华录百纳影视股份有限公司使用闲置自有资金投资国债逆回购、货币基金、债券基金、可转债及中低风险的中短期<em>理财</em>产品的核查意见', '瑞丰光电：关于公司2021年度使用闲置自有资金购买<em>理财</em>产品的公告', '安博通：关于使用暂时闲置自有资金购买<em>理财</em>产品的公告', '招商招利1个月期<em>理财</em>债券型证券投资基金基金合同', '宁波精达：宁波精达关于预计2021年度使用闲置自有资金进行委托<em>理财</em>的公告', '新光药业：委托<em>理财</em>管理制度', '永兴材料：关于继续使用自有资金购买<em>理财</em>产品的公告', '精艺股份：关于使用自有资金购买银行<em>理财</em>产品的公告', '中粮资本：中粮资本控股股份有限公司关于公司及下属子公司利用自有资金委托<em>理财</em>的公告', '新坐标：新坐标关于使用闲置自有资金进行投资<em>理财</em>的公告', '世嘉科技：关于使用部分闲置自有资金购买<em>理财</em>产品的公告', '永悦科技：永悦科技股份有限公司委托<em>理财</em>公告', '恒玄科技：关于使用自有资金购买<em>理财</em>产品的公告', '达刚控股：关于使用闲置自有资金购买<em>理财</em>产品的公告', '世纪天鸿：关于使用闲置自有资金购买<em>理财</em>产品的公告', '海螺水泥：委托<em>理财</em>公告', '文投控股：文投控股股份有限公司关于使用闲置自有资金购买<em>理财</em>产品的公告', '宁波富邦：宁波富邦关于全资子公司利用临时闲置资金购买<em>理财</em>产品的进展公告', '内蒙一机：内蒙古第一机械集团股份有限公司关于使用部分暂时闲置自有资金投资<em>理财</em>产品暨关联交易公告', '金田铜业：金田铜业关于2021年度委托<em>理财</em>额度的公告', '德邦股份：德邦物流股份有限公司关于2021年度使用自有资金进行委托<em>理财</em>的公告', '招商招利1个月期<em>理财</em>债券型证券投资基金托管协议'] ['/new/disclosure/detail?orgId=jjjl0000090&amp;announcementId=1209778941&amp;announcementTime=2021-04-21 16:00', '/new/disclosure/detail?orgId=jjjl0000090&amp;announcementId=1209778942&amp;announcementTime=2021-04-21 16:00', '/new/disclosure/detail?orgId=jjjl0000090&amp;announcementId=1209764671&amp;announcementTime=2021-04-20 16:00', '/new/disclosure/detail?orgId=jjjl0000090&amp;announcementId=1209752270&amp;announcementTime=2021-04-20 16:00', '/new/disclosure/detail?orgId=jjjl0000090&amp;announcementId=1209718867&amp;announcementTime=2021-04-15 16:00', '/new/disclosure/detail?orgId=9900020087&amp;announcementId=1209824556&amp;announcementTime=2021-04-27 03:50', '/new/disclosure/detail?orgId=9900020227&amp;announcementId=1209807532&amp;announcementTime=2021-04-26 16:00', '/new/disclosure/detail?orgId=9900024761&amp;announcementId=1209807786&amp;announcementTime=2021-04-26 16:00', '/new/disclosure/detail?orgId=gfbj0836154&amp;announcementId=1209808608&amp;announcementTime=2021-04-26 16:00', '/new/disclosure/detail?orgId=9900029001&amp;announcementId=1209808850&amp;announcementTime=2021-04-26 16:00', '/new/disclosure/detail?orgId=9900004896&amp;announcementId=1209809717&amp;announcementTime=2021-04-26 16:00', '/new/disclosure/detail?orgId=9900017867&amp;announcementId=1209809993&amp;announcementTime=2021-04-26 16:00', '/new/disclosure/detail?orgId=DR0000288&amp;announcementId=1209811144&amp;announcementTime=2021-04-26 16:00', '/new/disclosure/detail?orgId=DR0000288&amp;announcementId=1209811170&amp;announcementTime=2021-04-26 16:00', '/new/disclosure/detail?orgId=9900023652&amp;announcementId=1209811268&amp;announcementTime=2021-04-26 16:00', '/new/disclosure/detail?orgId=jjjl0000090&amp;announcementId=1209778941&amp;announcementTime=2021-04-21 16:00', '/new/disclosure/detail?orgId=jjjl0000090&amp;announcementId=1209778942&amp;announcementTime=2021-04-21 16:00', '/new/disclosure/detail?orgId=jjjl0000090&amp;announcementId=1209764671&amp;announcementTime=2021-04-20 16:00', '/new/disclosure/detail?orgId=jjjl0000090&amp;announcementId=1209752270&amp;announcementTime=2021-04-20 16:00', '/new/disclosure/detail?orgId=jjjl0000090&amp;announcementId=1209718867&amp;announcementTime=2021-04-15 16:00', '/new/disclosure/detail?orgId=9900026564&amp;announcementId=1209806414&amp;announcementTime=2021-04-26 16:00', '/new/disclosure/detail?orgId=9900022857&amp;announcementId=1209813379&amp;announcementTime=2021-04-26 16:00', '/new/disclosure/detail?orgId=9900009407&amp;announcementId=1209813647&amp;announcementTime=2021-04-26 16:00', '/new/disclosure/detail?orgId=gssh0600967&amp;announcementId=1209819103&amp;announcementTime=2021-04-26 16:00', '/new/disclosure/detail?orgId=gssh0600967&amp;announcementId=1209819117&amp;announcementTime=2021-04-26 16:00', '/new/disclosure/detail?orgId=9900030371&amp;announcementId=1209819815&amp;announcementTime=2021-04-26 16:00', '/new/disclosure/detail?orgId=9900023072&amp;announcementId=1209819842&amp;announcementTime=2021-04-26 16:00', '/new/disclosure/detail?orgId=9900029666&amp;announcementId=1209814085&amp;announcementTime=2021-04-26 16:00', '/new/disclosure/detail?orgId=9900021817&amp;announcementId=1209815648&amp;announcementTime=2021-04-26 16:00', '/new/disclosure/detail?orgId=9900020053&amp;announcementId=1209816380&amp;announcementTime=2021-04-26 16:00', '/new/disclosure/detail?orgId=jjjl0000090&amp;announcementId=1209778941&amp;announcementTime=2021-04-21 16:00', '/new/disclosure/detail?orgId=jjjl0000090&amp;announcementId=1209778942&amp;announcementTime=2021-04-21 16:00', '/new/disclosure/detail?orgId=jjjl0000090&amp;announcementId=1209764671&amp;announcementTime=2021-04-20 16:00', '/new/disclosure/detail?orgId=jjjl0000090&amp;announcementId=1209752270&amp;announcementTime=2021-04-20 16:00', '/new/disclosure/detail?orgId=jjjl0000090&amp;announcementId=1209718867&amp;announcementTime=2021-04-15 16:00', '/new/disclosure/detail?orgId=gfbj0839570&amp;announcementId=1209820561&amp;announcementTime=2021-04-26 16:00', '/new/disclosure/detail?orgId=jjjl0000060&amp;announcementId=1209824204&amp;announcementTime=2021-04-26 16:00', '/new/disclosure/detail?orgId=9900023174&amp;announcementId=1209807146&amp;announcementTime=2021-04-26 16:00', '/new/disclosure/detail?orgId=9900026538&amp;announcementId=1209807479&amp;announcementTime=2021-04-26 16:00', '/new/disclosure/detail?orgId=9900022998&amp;announcementId=1209811656&amp;announcementTime=2021-04-26 16:00', '/new/disclosure/detail?orgId=9900008168&amp;announcementId=1209812691&amp;announcementTime=2021-04-26 16:00', '/new/disclosure/detail?orgId=9900012789&amp;announcementId=1209809071&amp;announcementTime=2021-04-26 16:00', '/new/disclosure/detail?orgId=9900029981&amp;announcementId=1209810178&amp;announcementTime=2021-04-26 16:00', '/new/disclosure/detail?orgId=9900026564&amp;announcementId=1209805578&amp;announcementTime=2021-04-26 16:00', '/new/disclosure/detail?orgId=9900030816&amp;announcementId=1209806224&amp;announcementTime=2021-04-26 16:00', '/new/disclosure/detail?orgId=jjjl0000090&amp;announcementId=1209778941&amp;announcementTime=2021-04-21 16:00', '/new/disclosure/detail?orgId=jjjl0000090&amp;announcementId=1209778942&amp;announcementTime=2021-04-21 16:00', '/new/disclosure/detail?orgId=jjjl0000090&amp;announcementId=1209764671&amp;announcementTime=2021-04-20 16:00', '/new/disclosure/detail?orgId=jjjl0000090&amp;announcementId=1209752270&amp;announcementTime=2021-04-20 16:00', '/new/disclosure/detail?orgId=jjjl0000090&amp;announcementId=1209718867&amp;announcementTime=2021-04-15 16:00', '/new/disclosure/detail?orgId=nssc1000367&amp;announcementId=1209820707&amp;announcementTime=2021-04-26 16:00', '/new/disclosure/detail?orgId=9900012936&amp;announcementId=1209816943&amp;announcementTime=2021-04-26 16:00', '/new/disclosure/detail?orgId=gfbj0833456&amp;announcementId=1209813159&amp;announcementTime=2021-04-26 16:00', '/new/disclosure/detail?orgId=gssh0600585&amp;announcementId=1209818790&amp;announcementTime=2021-04-26 16:00', '/new/disclosure/detail?orgId=gssh0600715&amp;announcementId=1209818917&amp;announcementTime=2021-04-26 16:00', '/new/disclosure/detail?orgId=gssh0600768&amp;announcementId=1209818965&amp;announcementTime=2021-04-26 16:00', '/new/disclosure/detail?orgId=gssh0600967&amp;announcementId=1209819116&amp;announcementTime=2021-04-26 16:00', '/new/disclosure/detail?orgId=9900023721&amp;announcementId=1209819269&amp;announcementTime=2021-04-26 16:00', '/new/disclosure/detail?orgId=DR0000021&amp;announcementId=1209819533&amp;announcementTime=2021-04-26 16:00', '/new/disclosure/detail?orgId=jjjl0000060&amp;announcementId=1209824957&amp;announcementTime=2021-04-26 16:00'] ['\\n                                        2021-04-21 16:00\\n                                    ', '\\n                                        2021-04-21 16:00\\n                                    ', '\\n                                        2021-04-20 16:00\\n                                    ', '\\n                                        2021-04-20 16:00\\n                                    ', '\\n                                        2021-04-15 16:00\\n                                    ', '\\n                                            2021-04-27 03:50\\n                                        ', '\\n                                            2021-04-26 16:00\\n                                        ', '\\n                                            2021-04-26 16:00\\n                                        ', '\\n                                            2021-04-26 16:00\\n                                        ', '\\n                                            2021-04-26 16:00\\n                                        ', '\\n                                            2021-04-26 16:00\\n                                        ', '\\n                                            2021-04-26 16:00\\n                                        ', '\\n                                            2021-04-26 16:00\\n                                        ', '\\n                                            2021-04-26 16:00\\n                                        ', '\\n                                            2021-04-26 16:00\\n                                        ', '\\n                                        2021-04-21 16:00\\n                                    ', '\\n                                        2021-04-21 16:00\\n                                    ', '\\n                                        2021-04-20 16:00\\n                                    ', '\\n                                        2021-04-20 16:00\\n                                    ', '\\n                                        2021-04-15 16:00\\n                                    ', '\\n                                            2021-04-26 16:00\\n                                        ', '\\n                                            2021-04-26 16:00\\n                                        ', '\\n                                            2021-04-26 16:00\\n                                        ', '\\n                                            2021-04-26 16:00\\n                                        ', '\\n                                            2021-04-26 16:00\\n                                        ', '\\n                                            2021-04-26 16:00\\n                                        ', '\\n                                            2021-04-26 16:00\\n                                        ', '\\n                                            2021-04-26 16:00\\n                                        ', '\\n                                            2021-04-26 16:00\\n                                        ', '\\n                                            2021-04-26 16:00\\n                                        ', '\\n                                        2021-04-21 16:00\\n                                    ', '\\n                                        2021-04-21 16:00\\n                                    ', '\\n                                        2021-04-20 16:00\\n                                    ', '\\n                                        2021-04-20 16:00\\n                                    ', '\\n                                        2021-04-15 16:00\\n                                    ', '\\n                                            2021-04-26 16:00\\n                                        ', '\\n                                            2021-04-26 16:00\\n                                        ', '\\n                                            2021-04-26 16:00\\n                                        ', '\\n                                            2021-04-26 16:00\\n                                        ', '\\n                                            2021-04-26 16:00\\n                                        ', '\\n                                            2021-04-26 16:00\\n                                        ', '\\n                                            2021-04-26 16:00\\n                                        ', '\\n                                            2021-04-26 16:00\\n                                        ', '\\n                                            2021-04-26 16:00\\n                                        ', '\\n                                            2021-04-26 16:00\\n                                        ', '\\n                                        2021-04-21 16:00\\n                                    ', '\\n                                        2021-04-21 16:00\\n                                    ', '\\n                                        2021-04-20 16:00\\n                                    ', '\\n                                        2021-04-20 16:00\\n                                    ', '\\n                                        2021-04-15 16:00\\n                                    ', '\\n                                            2021-04-26 16:00\\n                                        ', '\\n                                            2021-04-26 16:00\\n                                        ', '\\n                                            2021-04-26 16:00\\n                                        ', '\\n                                            2021-04-26 16:00\\n                                        ', '\\n                                            2021-04-26 16:00\\n                                        ', '\\n                                            2021-04-26 16:00\\n                                        ', '\\n                                            2021-04-26 16:00\\n                                        ', '\\n                                            2021-04-26 16:00\\n                                        ', '\\n                                            2021-04-26 16:00\\n                                        ', '\\n                                            2021-04-26 16:00\\n                                        ']\n",
            "1.奥拓电子：中信证券股份有限公司关于公司运用自有闲置资金购买理财产品事项的核查意见 - 2021-04-21\n",
            "http://www.cninfo.com.cn/new/disclosure/detail?orgId=jjjl0000090&announcementId=1209778941&announcementTime=2021-04-21 16:00\n",
            "2.瑞丰高材：关于控股子公司使用闲置自有资金购买理财产品的公告 - 2021-04-21\n",
            "http://www.cninfo.com.cn/new/disclosure/detail?orgId=jjjl0000090&announcementId=1209778942&announcementTime=2021-04-21 16:00\n",
            "3.洪汇新材：关于使用部分自有闲置资金购买理财产品或结构性存款的公告 - 2021-04-20\n",
            "http://www.cninfo.com.cn/new/disclosure/detail?orgId=jjjl0000090&announcementId=1209764671&announcementTime=2021-04-20 16:00\n",
            "4.伟思医疗：南京伟思医疗科技股份有限公司关于开立理财产品专用结算账户的公告 - 2021-04-20\n",
            "http://www.cninfo.com.cn/new/disclosure/detail?orgId=jjjl0000090&announcementId=1209752270&announcementTime=2021-04-20 16:00\n",
            "5.深冷股份：关于使用闲置自有资金购买理财产品的公告 - 2021-04-15\n",
            "http://www.cninfo.com.cn/new/disclosure/detail?orgId=jjjl0000090&announcementId=1209718867&announcementTime=2021-04-15 16:00\n",
            "6.大洋电机：关于使用闲置自有资金购买银行理财产品的公告 - 2021-04-27\n",
            "http://www.cninfo.com.cn/new/disclosure/detail?orgId=9900020087&announcementId=1209824556&announcementTime=2021-04-27 03:50\n",
            "7.君正集团：君正集团关于使用自有资金进行委托理财的公告 - 2021-04-26\n",
            "http://www.cninfo.com.cn/new/disclosure/detail?orgId=9900020227&announcementId=1209807532&announcementTime=2021-04-26 16:00\n",
            "8.精测电子：招商证券股份有限公司关于武汉精测电子集团股份有限公司及子公司2021年度使用自有闲置资金进行委托理财事项的核查意见 - 2021-04-26\n",
            "http://www.cninfo.com.cn/new/disclosure/detail?orgId=9900024761&announcementId=1209807786&announcementTime=2021-04-26 16:00\n",
            "9.精测电子：武汉精测电子集团股份有限公司关于公司及子公司2021年度使用自有闲置资金进行委托理财的公告 - 2021-04-26\n",
            "http://www.cninfo.com.cn/new/disclosure/detail?orgId=gfbj0836154&announcementId=1209808608&announcementTime=2021-04-26 16:00\n",
            "10.浙农股份：关于公司2021年度使用闲置自有资金进行投资理财的公告 - 2021-04-26\n",
            "http://www.cninfo.com.cn/new/disclosure/detail?orgId=9900029001&announcementId=1209808850&announcementTime=2021-04-26 16:00\n",
            "11.世嘉科技：关于使用部分闲置自有资金购买理财产品的进展公告 - 2021-04-26\n",
            "http://www.cninfo.com.cn/new/disclosure/detail?orgId=9900004896&announcementId=1209809717&announcementTime=2021-04-26 16:00\n",
            "12.安硕信息：关于使用闲置自有资金购买理财产品的公告 - 2021-04-26\n",
            "http://www.cninfo.com.cn/new/disclosure/detail?orgId=9900017867&announcementId=1209809993&announcementTime=2021-04-26 16:00\n",
            "13.九洲集团：关于使用暂时闲置资金购买银行理财产品的公告 - 2021-04-26\n",
            "http://www.cninfo.com.cn/new/disclosure/detail?orgId=DR0000288&announcementId=1209811144&announcementTime=2021-04-26 16:00\n",
            "14.内蒙一机：内蒙古第一机械集团股份有限公司关于使用部分暂时闲置募集资金投资理财产品的公告 - 2021-04-26\n",
            "http://www.cninfo.com.cn/new/disclosure/detail?orgId=DR0000288&announcementId=1209811170&announcementTime=2021-04-26 16:00\n",
            "15.内蒙一机：内蒙一机独立董事关于使用部分暂时闲置自有资金与关联方共同投资理财产品的事前认可意见+签章页 - 2021-04-26\n",
            "http://www.cninfo.com.cn/new/disclosure/detail?orgId=9900023652&announcementId=1209811268&announcementTime=2021-04-26 16:00\n",
            "16.杰克股份：关于2021年度委托理财的公告 - 2021-04-21\n",
            "http://www.cninfo.com.cn/new/disclosure/detail?orgId=jjjl0000090&announcementId=1209778941&announcementTime=2021-04-21 16:00\n",
            "17.顶点软件：顶点软件关于2021年第一季度使用闲置自有资金购买理财产品的汇总公告 - 2021-04-21\n",
            "http://www.cninfo.com.cn/new/disclosure/detail?orgId=jjjl0000090&announcementId=1209778942&announcementTime=2021-04-21 16:00\n",
            "18.英维克：关于使用闲置自有资金购买理财产品的公告 - 2021-04-20\n",
            "http://www.cninfo.com.cn/new/disclosure/detail?orgId=jjjl0000090&announcementId=1209764671&announcementTime=2021-04-20 16:00\n",
            "19.中信证券股份有限公司关于北京华录百纳影视股份有限公司使用闲置自有资金投资国债逆回购、货币基金、债券基金、可转债及中低风险的中短期理财产品的核查意见 - 2021-04-20\n",
            "http://www.cninfo.com.cn/new/disclosure/detail?orgId=jjjl0000090&announcementId=1209752270&announcementTime=2021-04-20 16:00\n",
            "20.瑞丰光电：关于公司2021年度使用闲置自有资金购买理财产品的公告 - 2021-04-15\n",
            "http://www.cninfo.com.cn/new/disclosure/detail?orgId=jjjl0000090&announcementId=1209718867&announcementTime=2021-04-15 16:00\n",
            "21.安博通：关于使用暂时闲置自有资金购买理财产品的公告 - 2021-04-26\n",
            "http://www.cninfo.com.cn/new/disclosure/detail?orgId=9900026564&announcementId=1209806414&announcementTime=2021-04-26 16:00\n",
            "22.招商招利1个月期理财债券型证券投资基金基金合同 - 2021-04-26\n",
            "http://www.cninfo.com.cn/new/disclosure/detail?orgId=9900022857&announcementId=1209813379&announcementTime=2021-04-26 16:00\n",
            "23.宁波精达：宁波精达关于预计2021年度使用闲置自有资金进行委托理财的公告 - 2021-04-26\n",
            "http://www.cninfo.com.cn/new/disclosure/detail?orgId=9900009407&announcementId=1209813647&announcementTime=2021-04-26 16:00\n",
            "24.新光药业：委托理财管理制度 - 2021-04-26\n",
            "http://www.cninfo.com.cn/new/disclosure/detail?orgId=gssh0600967&announcementId=1209819103&announcementTime=2021-04-26 16:00\n",
            "25.永兴材料：关于继续使用自有资金购买理财产品的公告 - 2021-04-26\n",
            "http://www.cninfo.com.cn/new/disclosure/detail?orgId=gssh0600967&announcementId=1209819117&announcementTime=2021-04-26 16:00\n",
            "26.精艺股份：关于使用自有资金购买银行理财产品的公告 - 2021-04-26\n",
            "http://www.cninfo.com.cn/new/disclosure/detail?orgId=9900030371&announcementId=1209819815&announcementTime=2021-04-26 16:00\n",
            "27.中粮资本：中粮资本控股股份有限公司关于公司及下属子公司利用自有资金委托理财的公告 - 2021-04-26\n",
            "http://www.cninfo.com.cn/new/disclosure/detail?orgId=9900023072&announcementId=1209819842&announcementTime=2021-04-26 16:00\n",
            "28.新坐标：新坐标关于使用闲置自有资金进行投资理财的公告 - 2021-04-26\n",
            "http://www.cninfo.com.cn/new/disclosure/detail?orgId=9900029666&announcementId=1209814085&announcementTime=2021-04-26 16:00\n",
            "29.世嘉科技：关于使用部分闲置自有资金购买理财产品的公告 - 2021-04-26\n",
            "http://www.cninfo.com.cn/new/disclosure/detail?orgId=9900021817&announcementId=1209815648&announcementTime=2021-04-26 16:00\n",
            "30.永悦科技：永悦科技股份有限公司委托理财公告 - 2021-04-26\n",
            "http://www.cninfo.com.cn/new/disclosure/detail?orgId=9900020053&announcementId=1209816380&announcementTime=2021-04-26 16:00\n",
            "31.恒玄科技：关于使用自有资金购买理财产品的公告 - 2021-04-21\n",
            "http://www.cninfo.com.cn/new/disclosure/detail?orgId=jjjl0000090&announcementId=1209778941&announcementTime=2021-04-21 16:00\n",
            "32.达刚控股：关于使用闲置自有资金购买理财产品的公告 - 2021-04-21\n",
            "http://www.cninfo.com.cn/new/disclosure/detail?orgId=jjjl0000090&announcementId=1209778942&announcementTime=2021-04-21 16:00\n",
            "33.世纪天鸿：关于使用闲置自有资金购买理财产品的公告 - 2021-04-20\n",
            "http://www.cninfo.com.cn/new/disclosure/detail?orgId=jjjl0000090&announcementId=1209764671&announcementTime=2021-04-20 16:00\n",
            "34.海螺水泥：委托理财公告 - 2021-04-20\n",
            "http://www.cninfo.com.cn/new/disclosure/detail?orgId=jjjl0000090&announcementId=1209752270&announcementTime=2021-04-20 16:00\n",
            "35.文投控股：文投控股股份有限公司关于使用闲置自有资金购买理财产品的公告 - 2021-04-15\n",
            "http://www.cninfo.com.cn/new/disclosure/detail?orgId=jjjl0000090&announcementId=1209718867&announcementTime=2021-04-15 16:00\n",
            "36.宁波富邦：宁波富邦关于全资子公司利用临时闲置资金购买理财产品的进展公告 - 2021-04-26\n",
            "http://www.cninfo.com.cn/new/disclosure/detail?orgId=gfbj0839570&announcementId=1209820561&announcementTime=2021-04-26 16:00\n",
            "37.内蒙一机：内蒙古第一机械集团股份有限公司关于使用部分暂时闲置自有资金投资理财产品暨关联交易公告 - 2021-04-26\n",
            "http://www.cninfo.com.cn/new/disclosure/detail?orgId=jjjl0000060&announcementId=1209824204&announcementTime=2021-04-26 16:00\n",
            "38.金田铜业：金田铜业关于2021年度委托理财额度的公告 - 2021-04-26\n",
            "http://www.cninfo.com.cn/new/disclosure/detail?orgId=9900023174&announcementId=1209807146&announcementTime=2021-04-26 16:00\n",
            "39.德邦股份：德邦物流股份有限公司关于2021年度使用自有资金进行委托理财的公告 - 2021-04-26\n",
            "http://www.cninfo.com.cn/new/disclosure/detail?orgId=9900026538&announcementId=1209807479&announcementTime=2021-04-26 16:00\n",
            "40.招商招利1个月期理财债券型证券投资基金托管协议 - 2021-04-26\n",
            "http://www.cninfo.com.cn/new/disclosure/detail?orgId=9900022998&announcementId=1209811656&announcementTime=2021-04-26 16:00\n"
          ],
          "name": "stdout"
        }
      ]
    },
    {
      "cell_type": "code",
      "metadata": {
        "id": "q_Ii55urLWcX"
      },
      "source": [
        "# 4.自动筛选\n",
        "for i in range(len(title)):\n",
        "    if '2020' in date[i] or '2021' in date[i]:  # 筛选2019和2020年的，可以自己调节\n",
        "        title[i] = title[i]\n",
        "        href[i] = href[i]\n",
        "        date[i] = date[i]\n",
        "    else:\n",
        "        title[i] = ''\n",
        "        href[i] = ''\n",
        "        date[i] = ''\n",
        "while '' in title:\n",
        "    title.remove('')\n",
        "while '' in href:\n",
        "    href.remove('')\n",
        "while '' in date:\n",
        "    date.remove('')\n",
        "'''利用同样的思路，我们也能对标题进行清洗，如果该标题里还有某些不想要的关键词，比如说“保底”、“刚兑”等关键词，我们就把它赋值为空值，代码如下：'''\n",
        "for i in range(len(title)):\n",
        "    if '保底' in title[i] or '刚兑' in title[i]:\n",
        "        title[i] = ''\n",
        "        href[i] = ''\n",
        "        date[i] = ''\n",
        "    else:\n",
        "        title[i] = title[i]\n",
        "        href[i] = href[i]\n",
        "        date[i] = date[i]\n",
        "while '' in title:\n",
        "    title.remove('')\n",
        "while '' in href:\n",
        "    href.remove('')\n",
        "while '' in date:\n",
        "    date.remove('')"
      ],
      "execution_count": 6,
      "outputs": []
    },
    {
      "cell_type": "code",
      "metadata": {
        "colab": {
          "base_uri": "https://localhost:8080/"
        },
        "id": "aM2G0LmNLocw",
        "outputId": "e8b4b759-b1cf-46d0-8ace-10e635bf2c1e"
      },
      "source": [
        " \n",
        "print(title)"
      ],
      "execution_count": 8,
      "outputs": [
        {
          "output_type": "stream",
          "text": [
            "['奥拓电子：中信证券股份有限公司关于公司运用自有闲置资金购买理财产品事项的核查意见', '瑞丰高材：关于控股子公司使用闲置自有资金购买理财产品的公告', '洪汇新材：关于使用部分自有闲置资金购买理财产品或结构性存款的公告', '伟思医疗：南京伟思医疗科技股份有限公司关于开立理财产品专用结算账户的公告', '深冷股份：关于使用闲置自有资金购买理财产品的公告', '大洋电机：关于使用闲置自有资金购买银行理财产品的公告', '君正集团：君正集团关于使用自有资金进行委托理财的公告', '精测电子：招商证券股份有限公司关于武汉精测电子集团股份有限公司及子公司2021年度使用自有闲置资金进行委托理财事项的核查意见', '精测电子：武汉精测电子集团股份有限公司关于公司及子公司2021年度使用自有闲置资金进行委托理财的公告', '浙农股份：关于公司2021年度使用闲置自有资金进行投资理财的公告', '世嘉科技：关于使用部分闲置自有资金购买理财产品的进展公告', '安硕信息：关于使用闲置自有资金购买理财产品的公告', '九洲集团：关于使用暂时闲置资金购买银行理财产品的公告', '内蒙一机：内蒙古第一机械集团股份有限公司关于使用部分暂时闲置募集资金投资理财产品的公告', '内蒙一机：内蒙一机独立董事关于使用部分暂时闲置自有资金与关联方共同投资理财产品的事前认可意见+签章页', '杰克股份：关于2021年度委托理财的公告', '顶点软件：顶点软件关于2021年第一季度使用闲置自有资金购买理财产品的汇总公告', '英维克：关于使用闲置自有资金购买理财产品的公告', '中信证券股份有限公司关于北京华录百纳影视股份有限公司使用闲置自有资金投资国债逆回购、货币基金、债券基金、可转债及中低风险的中短期理财产品的核查意见', '瑞丰光电：关于公司2021年度使用闲置自有资金购买理财产品的公告', '安博通：关于使用暂时闲置自有资金购买理财产品的公告', '招商招利1个月期理财债券型证券投资基金基金合同', '宁波精达：宁波精达关于预计2021年度使用闲置自有资金进行委托理财的公告', '新光药业：委托理财管理制度', '永兴材料：关于继续使用自有资金购买理财产品的公告', '精艺股份：关于使用自有资金购买银行理财产品的公告', '中粮资本：中粮资本控股股份有限公司关于公司及下属子公司利用自有资金委托理财的公告', '新坐标：新坐标关于使用闲置自有资金进行投资理财的公告', '世嘉科技：关于使用部分闲置自有资金购买理财产品的公告', '永悦科技：永悦科技股份有限公司委托理财公告', '恒玄科技：关于使用自有资金购买理财产品的公告', '达刚控股：关于使用闲置自有资金购买理财产品的公告', '世纪天鸿：关于使用闲置自有资金购买理财产品的公告', '海螺水泥：委托理财公告', '文投控股：文投控股股份有限公司关于使用闲置自有资金购买理财产品的公告', '宁波富邦：宁波富邦关于全资子公司利用临时闲置资金购买理财产品的进展公告', '内蒙一机：内蒙古第一机械集团股份有限公司关于使用部分暂时闲置自有资金投资理财产品暨关联交易公告', '金田铜业：金田铜业关于2021年度委托理财额度的公告', '德邦股份：德邦物流股份有限公司关于2021年度使用自有资金进行委托理财的公告', '招商招利1个月期理财债券型证券投资基金托管协议']\n"
          ],
          "name": "stdout"
        }
      ]
    },
    {
      "cell_type": "code",
      "metadata": {
        "colab": {
          "base_uri": "https://localhost:8080/"
        },
        "id": "JnALCAGfLvw9",
        "outputId": "672b5b89-4b51-4eb9-ab13-f952487486da"
      },
      "source": [
        "len(title)"
      ],
      "execution_count": 9,
      "outputs": [
        {
          "output_type": "execute_result",
          "data": {
            "text/plain": [
              "40"
            ]
          },
          "metadata": {
            "tags": []
          },
          "execution_count": 9
        }
      ]
    }
  ]
}