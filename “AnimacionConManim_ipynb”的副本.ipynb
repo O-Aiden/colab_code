{
  "nbformat": 4,
  "nbformat_minor": 0,
  "metadata": {
    "colab": {
      "name": "“AnimacionConManim.ipynb”的副本",
      "private_outputs": true,
      "provenance": [],
      "collapsed_sections": [],
      "include_colab_link": true
    },
    "kernelspec": {
      "name": "python3",
      "display_name": "Python 3"
    }
  },
  "cells": [
    {
      "cell_type": "markdown",
      "metadata": {
        "id": "view-in-github",
        "colab_type": "text"
      },
      "source": [
        "<a href=\"https://colab.research.google.com/github/O-Aiden/colab_code/blob/main/%E2%80%9CAnimacionConManim_ipynb%E2%80%9D%E7%9A%84%E5%89%AF%E6%9C%AC.ipynb\" target=\"_parent\"><img src=\"https://colab.research.google.com/assets/colab-badge.svg\" alt=\"Open In Colab\"/></a>"
      ]
    },
    {
      "cell_type": "markdown",
      "metadata": {
        "id": "B5IRkt7BYHU1"
      },
      "source": [
        "# Crear Animaciones usando Manim en Google Colab\n",
        "Tutorial de como instalar manim en un entorno de Colab, es necesario descargar las renderizaciones."
      ]
    },
    {
      "cell_type": "markdown",
      "metadata": {
        "id": "a_41XZkxQzBf"
      },
      "source": [
        "## Paso 1. Clonar repositorio de manim\n",
        "\n",
        "\n",
        "\n"
      ]
    },
    {
      "cell_type": "code",
      "metadata": {
        "id": "y5TOPBoFQvI1"
      },
      "source": [
        "%cd /content\n",
        "!git clone https://github.com/3b1b/manim.git"
      ],
      "execution_count": null,
      "outputs": []
    },
    {
      "cell_type": "code",
      "metadata": {
        "id": "L6htmdplRZj2"
      },
      "source": [
        "# Cambiarse a la carpeta de manim\n",
        "%cd manim"
      ],
      "execution_count": null,
      "outputs": []
    },
    {
      "cell_type": "markdown",
      "metadata": {
        "id": "KG6lKephHYVL"
      },
      "source": [
        "## Paso 2. Instalar LaTeX (TeX live)"
      ]
    },
    {
      "cell_type": "code",
      "metadata": {
        "id": "NpNUhdQSG_wB"
      },
      "source": [
        "!sudo apt-get install texlive-full"
      ],
      "execution_count": null,
      "outputs": []
    },
    {
      "cell_type": "markdown",
      "metadata": {
        "id": "hSeA9X5lHgxg"
      },
      "source": [
        "## Paso 3. Usar python 3.7 en el entorno "
      ]
    },
    {
      "cell_type": "code",
      "metadata": {
        "id": "pnu_sllpIGJ6"
      },
      "source": [
        "!sudo apt-get install python3.7-minimal"
      ],
      "execution_count": null,
      "outputs": []
    },
    {
      "cell_type": "markdown",
      "metadata": {
        "id": "ieEHD0mEI050"
      },
      "source": [
        "## Paso 4. Verificar tener PIP instalado\n"
      ]
    },
    {
      "cell_type": "code",
      "metadata": {
        "id": "15_cKhmjI33W"
      },
      "source": [
        "# !python3 get-pip.py\n",
        "! mkdir pip\n",
        "! cd pip\n",
        "! curl https://bootstrap.pypa.io/get-pip.py -o get-pip.py\n",
        "! python3 get-pip.py"
      ],
      "execution_count": null,
      "outputs": []
    },
    {
      "cell_type": "markdown",
      "metadata": {
        "id": "2JQqSL1tP-mU"
      },
      "source": [
        "## Paso 5. Instalar ffmpeg"
      ]
    },
    {
      "cell_type": "code",
      "metadata": {
        "id": "UzFkcj8ZQBfz"
      },
      "source": [
        "!sudo apt-get install ffmpeg"
      ],
      "execution_count": null,
      "outputs": []
    },
    {
      "cell_type": "markdown",
      "metadata": {
        "id": "IkUNhJ9BQNvz"
      },
      "source": [
        "## Paso 6 Instalar SoX"
      ]
    },
    {
      "cell_type": "code",
      "metadata": {
        "id": "qMCXaSVKQSMX"
      },
      "source": [
        "!sudo apt-get install sox"
      ],
      "execution_count": null,
      "outputs": []
    },
    {
      "cell_type": "markdown",
      "metadata": {
        "id": "WaZMHDytQaDL"
      },
      "source": [
        "## Paso 7. Instalación de paqueterías previas para instalar pycairo:"
      ]
    },
    {
      "cell_type": "code",
      "metadata": {
        "id": "hDOTqewHQay0"
      },
      "source": [
        "!python3 -m pip install pyreadline\n",
        "!python3 -m pip install pydub"
      ],
      "execution_count": null,
      "outputs": []
    },
    {
      "cell_type": "code",
      "metadata": {
        "id": "2ym8MDLSR3LB"
      },
      "source": [
        "!sudo apt-get install libcairo2-dev libjpeg-dev libgif-dev python3-dev libffi-dev"
      ],
      "execution_count": null,
      "outputs": []
    },
    {
      "cell_type": "code",
      "metadata": {
        "id": "8DTkZo3gRImY"
      },
      "source": [
        "!pip install -r requirements.txt"
      ],
      "execution_count": null,
      "outputs": []
    },
    {
      "cell_type": "markdown",
      "metadata": {
        "id": "45nIB88-46PT"
      },
      "source": [
        "## Paso 8. Clone las escenas que desea utilizar dentro de la carpeta manim\n",
        "\n",
        "Dejamos un ejemplo de un programa de programacion lineal para renderizar."
      ]
    },
    {
      "cell_type": "code",
      "metadata": {
        "id": "-xyhbC8m5tLI"
      },
      "source": [
        "!git clone https://github.com/Macorreag/SimplexAnimation.git"
      ],
      "execution_count": null,
      "outputs": []
    },
    {
      "cell_type": "markdown",
      "metadata": {
        "id": "e4Hiwee0ho6L"
      },
      "source": [
        "## Paso 9. Renderize example "
      ]
    },
    {
      "cell_type": "code",
      "metadata": {
        "id": "RCnvAKQXSFuM"
      },
      "source": [
        "!python3 -m manim SimplexAnimation/LinealProblemMetodoG.py -pl"
      ],
      "execution_count": null,
      "outputs": []
    },
    {
      "cell_type": "code",
      "metadata": {
        "id": "eEiNrMBmsj-J"
      },
      "source": [
        "11"
      ],
      "execution_count": null,
      "outputs": []
    },
    {
      "cell_type": "code",
      "metadata": {
        "id": "InVcAacWsj7e"
      },
      "source": [
        ""
      ],
      "execution_count": null,
      "outputs": []
    },
    {
      "cell_type": "code",
      "metadata": {
        "id": "jgBrx5vKGHvG"
      },
      "source": [
        "!python3 -m manim SimplexAnimation/LinealProblemMetodoG.py OpeningManimExample\n"
      ],
      "execution_count": null,
      "outputs": []
    },
    {
      "cell_type": "code",
      "metadata": {
        "id": "0qw-kicJpj5A"
      },
      "source": [
        "!python -m manim /content/test.py -pl"
      ],
      "execution_count": null,
      "outputs": []
    },
    {
      "cell_type": "markdown",
      "metadata": {
        "id": "ut_gAW6ipkjA"
      },
      "source": [
        "#TEST"
      ]
    },
    {
      "cell_type": "code",
      "metadata": {
        "id": "0NQLgfqvIeSc"
      },
      "source": [
        "%cd /content/manim\n",
        "!python -m manim /content/manim/新冠供需模型.py\n"
      ],
      "execution_count": null,
      "outputs": []
    },
    {
      "cell_type": "code",
      "metadata": {
        "id": "qYsMF9iQZ7k4"
      },
      "source": [
        "1!python -m manim /content/test.py -pl"
      ],
      "execution_count": null,
      "outputs": []
    },
    {
      "cell_type": "code",
      "metadata": {
        "id": "mHNAEYIlpqoz"
      },
      "source": [
        "1\n",
        "!python3 -m manim /content/drive/MyDrive/tool/manim/example_scenes.py -pl\n",
        "\n"
      ],
      "execution_count": null,
      "outputs": []
    },
    {
      "cell_type": "code",
      "metadata": {
        "id": "0lQZrxhJps8K"
      },
      "source": [
        "from easydl import clear_output\n",
        " \n",
        "clear_output() # 清除输出"
      ],
      "execution_count": null,
      "outputs": []
    },
    {
      "cell_type": "markdown",
      "metadata": {
        "id": "4a3hUwnVrIt7"
      },
      "source": [
        ""
      ]
    },
    {
      "cell_type": "code",
      "metadata": {
        "id": "N-tVhJj5NjYY"
      },
      "source": [
        "!apt-key adv --keyserver hkp://keyserver.ubuntu.com:80 --recv-keys D6BC243565B2087BC3F897C9277A7293F59E4889"
      ],
      "execution_count": null,
      "outputs": []
    },
    {
      "cell_type": "code",
      "metadata": {
        "id": "SXiDmnSCNkA8"
      },
      "source": [
        "!echo \"deb http://miktex.org/download/ubuntu xenial universe\" | sudo tee /etc/apt/sources.list.d/miktex.list"
      ],
      "execution_count": null,
      "outputs": []
    },
    {
      "cell_type": "code",
      "metadata": {
        "id": "Uz5wGcnlNrwP"
      },
      "source": [
        "!apt-get install miktex"
      ],
      "execution_count": null,
      "outputs": []
    },
    {
      "cell_type": "code",
      "metadata": {
        "id": "c4eD8bWBRoBc"
      },
      "source": [
        "!cd /usr/share/texlive/texmf-dist/tex/latex"
      ],
      "execution_count": null,
      "outputs": []
    },
    {
      "cell_type": "code",
      "metadata": {
        "id": "5h4vY1q_TsVW"
      },
      "source": [
        "ls\n"
      ],
      "execution_count": null,
      "outputs": []
    },
    {
      "cell_type": "code",
      "metadata": {
        "id": "gQoCJ5hQUbwN"
      },
      "source": [
        "!mkdir dsfont\n",
        "!mkdir physics"
      ],
      "execution_count": null,
      "outputs": []
    },
    {
      "cell_type": "code",
      "metadata": {
        "id": "_xtWnpDxUitf"
      },
      "source": [
        "!cp /content/drive/MyDrive/tool/manim_exten/physics.sty physics/\n",
        "!cp /content/drive/MyDrive/tool/manim_exten/dsfont.sty dsfont/"
      ],
      "execution_count": null,
      "outputs": []
    },
    {
      "cell_type": "code",
      "metadata": {
        "id": "vwufk_rIU2Og"
      },
      "source": [
        "!mktexlsr"
      ],
      "execution_count": null,
      "outputs": []
    },
    {
      "cell_type": "markdown",
      "metadata": {
        "id": "qTOqZSi4XSYF"
      },
      "source": [
        ""
      ]
    },
    {
      "cell_type": "code",
      "metadata": {
        "id": "f3Gsp88CU5vX"
      },
      "source": [
        "!apt-cache search latex"
      ],
      "execution_count": null,
      "outputs": []
    },
    {
      "cell_type": "code",
      "metadata": {
        "id": "rI_DvvL0XTTZ"
      },
      "source": [
        "!apt-get install texlive-latex-base"
      ],
      "execution_count": null,
      "outputs": []
    },
    {
      "cell_type": "code",
      "metadata": {
        "id": "i4bTDXePXabD"
      },
      "source": [
        "!apt-cache search cjk"
      ],
      "execution_count": null,
      "outputs": []
    },
    {
      "cell_type": "code",
      "metadata": {
        "id": "g8aJjbpyXeri"
      },
      "source": [
        "!apt install latex-cjk-all"
      ],
      "execution_count": null,
      "outputs": []
    },
    {
      "cell_type": "code",
      "metadata": {
        "id": "-vHZqflZXiYt"
      },
      "source": [
        "!apt-cache search lastpage"
      ],
      "execution_count": null,
      "outputs": []
    },
    {
      "cell_type": "code",
      "metadata": {
        "id": "3sUez0b0XpWQ"
      },
      "source": [
        "!apt-get install texlive-latex-extra"
      ],
      "execution_count": null,
      "outputs": []
    },
    {
      "cell_type": "code",
      "metadata": {
        "id": "HBhv1Xw_XzO3"
      },
      "source": [
        "!apt-get install texmaker"
      ],
      "execution_count": null,
      "outputs": []
    },
    {
      "cell_type": "code",
      "metadata": {
        "id": "krraeR6ZX7Nl"
      },
      "source": [
        "!apt-get install texlive-xetex"
      ],
      "execution_count": null,
      "outputs": []
    },
    {
      "cell_type": "code",
      "metadata": {
        "id": "Dmcv8WRZX-6a"
      },
      "source": [
        "!apt-get install texlive-publishers"
      ],
      "execution_count": null,
      "outputs": []
    },
    {
      "cell_type": "code",
      "metadata": {
        "id": "4A-A-qhiYBe-"
      },
      "source": [
        "%cd /usr/share/fonts/winfonts"
      ],
      "execution_count": null,
      "outputs": []
    },
    {
      "cell_type": "code",
      "metadata": {
        "id": "-VAPV1vGb5kc"
      },
      "source": [
        "!mkfontscale \n",
        "!mkfontdir\n",
        "!fc-cache -fv"
      ],
      "execution_count": null,
      "outputs": []
    },
    {
      "cell_type": "code",
      "metadata": {
        "id": "pIzNdkX6cJWs"
      },
      "source": [
        "!fc-list :lang=zh | grep 'heiti'"
      ],
      "execution_count": null,
      "outputs": []
    },
    {
      "cell_type": "code",
      "metadata": {
        "id": "r7_XWHXwcQpK"
      },
      "source": [
        ""
      ],
      "execution_count": null,
      "outputs": []
    }
  ]
}