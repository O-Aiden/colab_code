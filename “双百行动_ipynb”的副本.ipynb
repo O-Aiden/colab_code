{
  "nbformat": 4,
  "nbformat_minor": 0,
  "metadata": {
    "colab": {
      "name": "“双百行动.ipynb”的副本",
      "provenance": [],
      "collapsed_sections": [
        "wJb03AfulFTn",
        "6k8XD04cnr0f",
        "eYt002YqtBD9"
      ],
      "mount_file_id": "15WuWPPEDjEo-T7zY7w5aav4vudmqtKXM",
      "authorship_tag": "ABX9TyNwcvrve9DKUiOEC0nZTSON",
      "include_colab_link": true
    },
    "kernelspec": {
      "name": "python3",
      "display_name": "Python 3"
    }
  },
  "cells": [
    {
      "cell_type": "markdown",
      "metadata": {
        "id": "view-in-github",
        "colab_type": "text"
      },
      "source": [
        "<a href=\"https://colab.research.google.com/github/O-Aiden/colab_code/blob/main/%E2%80%9C%E5%8F%8C%E7%99%BE%E8%A1%8C%E5%8A%A8_ipynb%E2%80%9D%E7%9A%84%E5%89%AF%E6%9C%AC.ipynb\" target=\"_parent\"><img src=\"https://colab.research.google.com/assets/colab-badge.svg\" alt=\"Open In Colab\"/></a>"
      ]
    },
    {
      "cell_type": "markdown",
      "metadata": {
        "id": "wJb03AfulFTn"
      },
      "source": [
        "# 环境导入"
      ]
    },
    {
      "cell_type": "code",
      "metadata": {
        "id": "d-AAeW22frj8"
      },
      "source": [
        "#https://python-docx.readthedocs.io/en/latest/\n",
        "!pip install python-docx "
      ],
      "execution_count": null,
      "outputs": []
    },
    {
      "cell_type": "code",
      "metadata": {
        "id": "xGJAQ9cBeo_5"
      },
      "source": [
        "import pandas as pd\n",
        "\n",
        "from docx import Document"
      ],
      "execution_count": null,
      "outputs": []
    },
    {
      "cell_type": "markdown",
      "metadata": {
        "id": "_aKueE0jlJ4k"
      },
      "source": [
        "# 数据处理"
      ]
    },
    {
      "cell_type": "markdown",
      "metadata": {
        "id": "6k8XD04cnr0f"
      },
      "source": [
        "## 名单处理\n",
        "双百企业名单下载地址：http://www.sasac.gov.cn/n4470048/n10286230/n10870882/n10870887/c11913719/content.html"
      ]
    },
    {
      "cell_type": "code",
      "metadata": {
        "id": "IvdTh9ALglT5"
      },
      "source": [
        "# 从文件创建文档对象\n",
        "document = Document('/content/drive/MyDrive/双百行动/双百企业名单.docx')\n",
        "# 显示每段的内容,转为list格式\n",
        "lis = []\n",
        "for p in document.paragraphs:\n",
        "    lis.append(p.text)\n",
        "# 转为DataFrame格式\n",
        "data = pd.DataFrame(lis)\n",
        "data = data.drop(labels=0)\n",
        "data = data.rename(columns={0:'双百企业名单'})"
      ],
      "execution_count": null,
      "outputs": []
    },
    {
      "cell_type": "code",
      "metadata": {
        "id": "etmrXRQZk6R9"
      },
      "source": [
        "# 数据保存为csv格式\n",
        "data.to_csv('/content/drive/MyDrive/双百行动/双百企业名单.csv')"
      ],
      "execution_count": null,
      "outputs": []
    },
    {
      "cell_type": "markdown",
      "metadata": {
        "id": "bJwbXoX95BfN"
      },
      "source": [
        "## 初步筛选：\n",
        "####（1）去除无关数据，筛选出448个双百企业\n",
        "####（2）删除名字中含有“股份”的公司（337个）\n",
        "####（3）筛选出名字中含有“有限责任公司”的公司（57个）"
      ]
    },
    {
      "cell_type": "markdown",
      "metadata": {
        "id": "eYt002YqtBD9"
      },
      "source": [
        "### 非双百企业和城市名单"
      ]
    },
    {
      "cell_type": "code",
      "metadata": {
        "id": "h2wfREgNmT9T"
      },
      "source": [
        "# 非索引公司\n",
        "list_noncom = [\n",
        "'中国核工业集团有限公司',\n",
        "'中国航天科技集团有限公司',\n",
        "'中国航天科工集团有限公司',\n",
        "'中国航空工业集团有限公司',\n",
        "'中国船舶集团有限公司',\n",
        "'中国兵器工业集团有限公司',\n",
        "'中国兵器装备集团有限公司',\n",
        "'中国电子科技集团有限公司',\n",
        "'中国航空发动机集团有限公司',\n",
        "'中国石油天然气集团有限公司',\n",
        "'中国航天科技集团有限公司',\n",
        "'中国航天科工集团有限公司',\n",
        "'中国航空工业集团有限公司',\n",
        "'中国船舶集团有限公司',\n",
        "'中国兵器工业集团有限公司',\n",
        "'中国兵器装备集团有限公司',\n",
        "'中国电子科技集团有限公司',\n",
        "'中国航空发动机集团有限公司',\n",
        "'中国石油天然气集团有限公司',\n",
        "'中国石油化工集团有限公司',\n",
        "'中国海洋石油集团有限公司',\n",
        "'国家电网有限公司',\n",
        "'中国南方电网有限责任公司',\n",
        "'中国华能集团有限公司',\n",
        "'中国大唐集团有限公司',\n",
        "'中国华电集团有限公司',\n",
        "'国家电力投资集团有限公司',\n",
        "'中国长江三峡集团有限公司',\n",
        "'国家能源投资集团有限责任公司',\n",
        "'中国电信集团有限公司',\n",
        "'中国联合网络通信集团有限公司',\n",
        "'中国移动通信集团有限公司',\n",
        "'中国电子信息产业集团有限公司',\n",
        "'中国第一汽车集团有限公司',\n",
        "'东风汽车集团有限公司',\n",
        "'中国一重集团有限公司',\n",
        "'中国机械工业集团有限公司',\n",
        "'哈尔滨电气集团有限公司',\n",
        "'中国东方电气集团有限公司',\n",
        "'鞍钢集团有限公司',\n",
        "'中国宝武钢铁集团有限公司',\n",
        "'中国铝业集团有限公司',\n",
        "'中国远洋海运集团有限公司',\n",
        "'中国航空集团有限公司',\n",
        "'中国东方航空集团有限公司',\n",
        "'中国南方航空集团有限公司',\n",
        "'中国中化集团有限公司',\n",
        "'中粮集团有限公司',\n",
        "'中国五矿集团有限公司',\n",
        "'中国通用技术（集团）控股有限责任公司',\n",
        "'中国建筑集团有限公司',\n",
        "'中国储备粮管理集团有限公司',\n",
        "'国家开发投资集团有限公司',\n",
        "'招商局集团有限公司',\n",
        "'华润（集团）有限公司',\n",
        "'中国旅游集团公司[香港中旅（集团）有限公司]',\n",
        "'中国商用飞机有限责任公司',\n",
        "'中国节能环保集团有限公司',\n",
        "'中国国际工程咨询有限公司',\n",
        "'中国诚通控股集团有限公司',\n",
        "'中国中煤能源集团有限公司',\n",
        "'中国煤炭科工集团有限公司',\n",
        "'机械科学研究总院集团有限公司',\n",
        "'中国中钢集团有限公司',\n",
        "'中国钢研科技集团有限公司',\n",
        "'中国化工集团有限公司',\n",
        "'中国化学工程集团有限公司',\n",
        "'中国盐业集团有限公司',\n",
        "'中国建材集团有限公司',\n",
        "'中国有色矿业集团有限公司',\n",
        "'有研科技集团有限公司',\n",
        "'北京矿冶科技集团有限公司',\n",
        "'中国国际技术智力合作有限公司',\n",
        "'中国建筑科学研究院有限公司',\n",
        "'中国中车集团有限公司',\n",
        "'中国铁路通信信号集团有限公司',\n",
        "'中国铁路工程集团有限公司',\n",
        "'中国铁道建筑有限公司',\n",
        "'中国交通建设集团有限公司',\n",
        "'中国普天信息产业集团有限公司',\n",
        "'中国信息通信科技集团有限公司',\n",
        "'中国农业发展集团有限公司',\n",
        "'中国林业集团有限公司',\n",
        "'中国医药集团有限公司',\n",
        "'中国保利集团有限公司',\n",
        "'中国建设科技有限公司',\n",
        "'中国冶金地质总局',\n",
        "'中国煤炭地质总局',\n",
        "'新兴际华集团有限公司',\n",
        "'中国民航信息集团有限公司',\n",
        "'中国航空油料集团有限公司',\n",
        "'中国航空器材集团有限公司',\n",
        "'中国电力建设集团有限公司',\n",
        "'中国能源建设集团有限公司',\n",
        "'中国黄金集团有限公司',\n",
        "'中国广核集团有限公司',\n",
        "'中国华录集团有限公司',\n",
        "'华侨城集团有限公司',\n",
        "'南光（集团）有限公司[中国南光集团有限公司]',\n",
        "'中国西电集团有限公司',\n",
        "'中国铁路物资集团有限公司',\n",
        "'中国国新控股有限责任公司',\n",
        "'北京市',\n",
        "'天津市',\n",
        "'河北省',\n",
        "'山西省',\n",
        "'内蒙古自治区',\n",
        "'辽宁省',\n",
        "'吉林省',\n",
        "'黑龙江省',\n",
        "'上海市',\n",
        "'江苏省',\n",
        "'浙江省',\n",
        "'安徽省',\n",
        "'福建省',\n",
        "'江西省',\n",
        "'山东省',\n",
        "'河南省',\n",
        "'湖北省',\n",
        "'湖南省',\n",
        "'广东省',\n",
        "'广西壮族自治区',\n",
        "'海南省',\n",
        "'重庆市',\n",
        "'四川省',\n",
        "'贵州省',\n",
        "'云南省',\n",
        "'西藏自治区',\n",
        "'陕西省',\n",
        "'甘肃省',\n",
        "'青海省',\n",
        "'宁夏回族自治区',\n",
        "'新疆维吾尔自治区',\n",
        "'新疆生产建设兵团',\n",
        "'大连市',\n",
        "'宁波市',\n",
        "'厦门市',\n",
        "'青岛市',\n",
        "'深圳市'\n",
        "]\n"
      ],
      "execution_count": null,
      "outputs": []
    },
    {
      "cell_type": "markdown",
      "metadata": {
        "id": "yOlJcobytFkZ"
      },
      "source": [
        "### 删除非双百企业和城市名单"
      ]
    },
    {
      "cell_type": "code",
      "metadata": {
        "id": "5kYVHX57s6uy"
      },
      "source": [
        "# 删除非公司的行\n",
        "data_clear = data[~data['双百企业名单'].isin(list_noncom)]\n",
        "\n",
        "data_clear = data_clear.reset_index(drop=True)\n",
        "data_clear.to_csv('/content/drive/MyDrive/双百行动/双百企业名单_纯448个双百公司.csv')"
      ],
      "execution_count": null,
      "outputs": []
    },
    {
      "cell_type": "markdown",
      "metadata": {
        "id": "mD2K9bCHxr95"
      },
      "source": [
        "### 删除名字中含有“股份”的公司"
      ]
    },
    {
      "cell_type": "code",
      "metadata": {
        "id": "d1DlnIYDyjBE"
      },
      "source": [
        "data_no_gufen = data_clear[ ~ data_clear['双百企业名单'].str.contains('股份') ]\n",
        "data_no_gufen = data_no_gufen.reset_index(drop=True)\n",
        "\n",
        "data_no_gufen.to_csv('/content/drive/MyDrive/双百行动/双百企业名单_名字中不含股份.csv')"
      ],
      "execution_count": null,
      "outputs": []
    },
    {
      "cell_type": "markdown",
      "metadata": {
        "id": "lVLlyKfw0cya"
      },
      "source": [
        "### 名字中含有“有限责任公司”（优先关注）"
      ]
    },
    {
      "cell_type": "code",
      "metadata": {
        "id": "_VCm1_8Cymew"
      },
      "source": [
        "data_have_yxzrgs = data[data['双百企业名单'].str.contains('有限责任公司')]\n",
        "data_have_yxzrgs = data_have_yxzrgs.reset_index(drop=True)\n",
        "\n",
        "data_have_yxzrgs.to_csv('/content/drive/MyDrive/双百行动/双百企业名单_名字含有有限责任公司.csv')"
      ],
      "execution_count": null,
      "outputs": []
    },
    {
      "cell_type": "code",
      "metadata": {
        "id": "oiA2Jk2UzJ4a"
      },
      "source": [
        "data_have_yxzrgs"
      ],
      "execution_count": null,
      "outputs": []
    }
  ]
}