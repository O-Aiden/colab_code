{
  "nbformat": 4,
  "nbformat_minor": 0,
  "metadata": {
    "colab": {
      "name": "3D-Photo-Inpainting.ipynb",
      "provenance": [],
      "collapsed_sections": [],
      "toc_visible": true,
      "include_colab_link": true
    },
    "kernelspec": {
      "name": "python3",
      "display_name": "Python 3"
    },
    "accelerator": "GPU"
  },
  "cells": [
    {
      "cell_type": "markdown",
      "metadata": {
        "id": "view-in-github",
        "colab_type": "text"
      },
      "source": [
        "<a href=\"https://colab.research.google.com/github/O-Aiden/colab_code/blob/main/3D_Photo_Inpainting.ipynb\" target=\"_parent\"><img src=\"https://colab.research.google.com/assets/colab-badge.svg\" alt=\"Open In Colab\"/></a>"
      ]
    },
    {
      "cell_type": "markdown",
      "metadata": {
        "id": "IY-s3ZpHBeAU"
      },
      "source": [
        "**[CVPR 2020] 3D Photography using Context-aware Layered Depth Inpainting**\n",
        "\n",
        "[project website](https://shihmengli.github.io/3D-Photo-Inpainting/)"
      ]
    },
    {
      "cell_type": "markdown",
      "metadata": {
        "id": "LPQ0EWxgvMIc"
      },
      "source": [
        "- **Prepare environment**\n"
      ]
    },
    {
      "cell_type": "code",
      "metadata": {
        "id": "5o-EIMeaghU0",
        "colab": {
          "base_uri": "https://localhost:8080/"
        },
        "outputId": "63068e5b-036c-41a8-85dd-22dbb48d8cb2"
      },
      "source": [
        "!pip3 install torch==1.4.0+cu100 torchvision==0.5.0+cu100 -f https://download.pytorch.org/whl/torch_stable.html\n",
        "!pip3 install opencv-python==4.2.0.32\n",
        "!pip3 install vispy==0.6.4\n",
        "!pip3 install moviepy==1.0.2\n",
        "!pip3 install transforms3d==0.3.1\n",
        "!pip3 install networkx==2.3\n",
        "!sudo apt install sed"
      ],
      "execution_count": 11,
      "outputs": [
        {
          "output_type": "stream",
          "text": [
            "Looking in links: https://download.pytorch.org/whl/torch_stable.html\n",
            "Requirement already satisfied: torch==1.4.0+cu100 in /usr/local/lib/python3.6/dist-packages (1.4.0+cu100)\n",
            "Requirement already satisfied: torchvision==0.5.0+cu100 in /usr/local/lib/python3.6/dist-packages (0.5.0+cu100)\n",
            "Requirement already satisfied: numpy in /usr/local/lib/python3.6/dist-packages (from torchvision==0.5.0+cu100) (1.18.5)\n",
            "Requirement already satisfied: pillow>=4.1.1 in /usr/local/lib/python3.6/dist-packages (from torchvision==0.5.0+cu100) (7.0.0)\n",
            "Requirement already satisfied: six in /usr/local/lib/python3.6/dist-packages (from torchvision==0.5.0+cu100) (1.15.0)\n",
            "Requirement already satisfied: opencv-python==4.2.0.32 in /usr/local/lib/python3.6/dist-packages (4.2.0.32)\n",
            "Requirement already satisfied: numpy>=1.11.3 in /usr/local/lib/python3.6/dist-packages (from opencv-python==4.2.0.32) (1.18.5)\n",
            "Requirement already satisfied: vispy==0.6.4 in /usr/local/lib/python3.6/dist-packages (0.6.4)\n",
            "Requirement already satisfied: freetype-py in /usr/local/lib/python3.6/dist-packages (from vispy==0.6.4) (2.2.0)\n",
            "Requirement already satisfied: numpy in /usr/local/lib/python3.6/dist-packages (from vispy==0.6.4) (1.18.5)\n",
            "Requirement already satisfied: moviepy==1.0.2 in /usr/local/lib/python3.6/dist-packages (1.0.2)\n",
            "Requirement already satisfied: numpy>=1.17.3; python_version != \"2.7\" in /usr/local/lib/python3.6/dist-packages (from moviepy==1.0.2) (1.18.5)\n",
            "Requirement already satisfied: tqdm<5.0,>=4.11.2 in /usr/local/lib/python3.6/dist-packages (from moviepy==1.0.2) (4.41.1)\n",
            "Requirement already satisfied: imageio<3.0,>=2.5; python_version >= \"3.4\" in /usr/local/lib/python3.6/dist-packages (from moviepy==1.0.2) (2.9.0)\n",
            "Requirement already satisfied: requests<3.0,>=2.8.1 in /usr/local/lib/python3.6/dist-packages (from moviepy==1.0.2) (2.23.0)\n",
            "Requirement already satisfied: proglog<=1.0.0 in /usr/local/lib/python3.6/dist-packages (from moviepy==1.0.2) (0.1.9)\n",
            "Requirement already satisfied: decorator<5.0,>=4.0.2 in /usr/local/lib/python3.6/dist-packages (from moviepy==1.0.2) (4.4.2)\n",
            "Requirement already satisfied: imageio-ffmpeg>=0.2.0; python_version >= \"3.4\" in /usr/local/lib/python3.6/dist-packages (from moviepy==1.0.2) (0.4.2)\n",
            "Requirement already satisfied: pillow in /usr/local/lib/python3.6/dist-packages (from imageio<3.0,>=2.5; python_version >= \"3.4\"->moviepy==1.0.2) (7.0.0)\n",
            "Requirement already satisfied: certifi>=2017.4.17 in /usr/local/lib/python3.6/dist-packages (from requests<3.0,>=2.8.1->moviepy==1.0.2) (2020.11.8)\n",
            "Requirement already satisfied: chardet<4,>=3.0.2 in /usr/local/lib/python3.6/dist-packages (from requests<3.0,>=2.8.1->moviepy==1.0.2) (3.0.4)\n",
            "Requirement already satisfied: urllib3!=1.25.0,!=1.25.1,<1.26,>=1.21.1 in /usr/local/lib/python3.6/dist-packages (from requests<3.0,>=2.8.1->moviepy==1.0.2) (1.24.3)\n",
            "Requirement already satisfied: idna<3,>=2.5 in /usr/local/lib/python3.6/dist-packages (from requests<3.0,>=2.8.1->moviepy==1.0.2) (2.10)\n",
            "Requirement already satisfied: transforms3d==0.3.1 in /usr/local/lib/python3.6/dist-packages (0.3.1)\n",
            "Requirement already satisfied: networkx==2.3 in /usr/local/lib/python3.6/dist-packages (2.3)\n",
            "Requirement already satisfied: decorator>=4.3.0 in /usr/local/lib/python3.6/dist-packages (from networkx==2.3) (4.4.2)\n",
            "Reading package lists... Done\n",
            "Building dependency tree       \n",
            "Reading state information... Done\n",
            "sed is already the newest version (4.4-2).\n",
            "0 upgraded, 0 newly installed, 0 to remove and 14 not upgraded.\n"
          ],
          "name": "stdout"
        }
      ]
    },
    {
      "cell_type": "markdown",
      "metadata": {
        "id": "c-g7AeLMvY0R"
      },
      "source": [
        "- **Download script and pretrained model**\n"
      ]
    },
    {
      "cell_type": "code",
      "metadata": {
        "id": "cOFIBkWrBlNM",
        "colab": {
          "base_uri": "https://localhost:8080/"
        },
        "outputId": "2e413617-67c8-485b-be47-2755a792f5c9"
      },
      "source": [
        "%cd /content/\n",
        "!git clone https://github.com/vt-vl-lab/3d-photo-inpainting.git\n",
        "%cd 3d-photo-inpainting\n",
        "!sh download.sh"
      ],
      "execution_count": 12,
      "outputs": [
        {
          "output_type": "stream",
          "text": [
            "/content\n",
            "fatal: destination path '3d-photo-inpainting' already exists and is not an empty directory.\n",
            "/content/3d-photo-inpainting\n",
            "mkdir: cannot create directory ‘checkpoints’: File exists\n",
            "downloading from filebox ...\n",
            "--2020-12-06 11:21:58--  https://filebox.ece.vt.edu/~jbhuang/project/3DPhoto/model/color-model.pth\n",
            "Resolving filebox.ece.vt.edu (filebox.ece.vt.edu)... 128.173.88.43\n",
            "Connecting to filebox.ece.vt.edu (filebox.ece.vt.edu)|128.173.88.43|:443... connected.\n",
            "HTTP request sent, awaiting response... 200 OK\n",
            "Length: 206331633 (197M)\n",
            "Saving to: ‘color-model.pth’\n",
            "\n",
            "color-model.pth     100%[===================>] 196.77M  48.1MB/s    in 4.2s    \n",
            "\n",
            "2020-12-06 11:22:02 (47.2 MB/s) - ‘color-model.pth’ saved [206331633/206331633]\n",
            "\n",
            "--2020-12-06 11:22:02--  https://filebox.ece.vt.edu/~jbhuang/project/3DPhoto/model/depth-model.pth\n",
            "Resolving filebox.ece.vt.edu (filebox.ece.vt.edu)... 128.173.88.43\n",
            "Connecting to filebox.ece.vt.edu (filebox.ece.vt.edu)|128.173.88.43|:443... connected.\n",
            "HTTP request sent, awaiting response... 200 OK\n",
            "Length: 206272258 (197M)\n",
            "Saving to: ‘depth-model.pth’\n",
            "\n",
            "depth-model.pth     100%[===================>] 196.72M  48.5MB/s    in 4.2s    \n",
            "\n",
            "2020-12-06 11:22:07 (47.2 MB/s) - ‘depth-model.pth’ saved [206272258/206272258]\n",
            "\n",
            "--2020-12-06 11:22:07--  https://filebox.ece.vt.edu/~jbhuang/project/3DPhoto/model/edge-model.pth\n",
            "Resolving filebox.ece.vt.edu (filebox.ece.vt.edu)... 128.173.88.43\n",
            "Connecting to filebox.ece.vt.edu (filebox.ece.vt.edu)|128.173.88.43|:443... connected.\n",
            "HTTP request sent, awaiting response... 200 OK\n",
            "Length: 45974122 (44M)\n",
            "Saving to: ‘edge-model.pth’\n",
            "\n",
            "edge-model.pth      100%[===================>]  43.84M  44.1MB/s    in 1.0s    \n",
            "\n",
            "2020-12-06 11:22:08 (44.1 MB/s) - ‘edge-model.pth’ saved [45974122/45974122]\n",
            "\n",
            "--2020-12-06 11:22:08--  https://filebox.ece.vt.edu/~jbhuang/project/3DPhoto/model/model.pt\n",
            "Resolving filebox.ece.vt.edu (filebox.ece.vt.edu)... 128.173.88.43\n",
            "Connecting to filebox.ece.vt.edu (filebox.ece.vt.edu)|128.173.88.43|:443... connected.\n",
            "HTTP request sent, awaiting response... 200 OK\n",
            "Length: 149751722 (143M)\n",
            "Saving to: ‘model.pt’\n",
            "\n",
            "model.pt            100%[===================>] 142.81M  47.0MB/s    in 3.0s    \n",
            "\n",
            "2020-12-06 11:22:11 (47.0 MB/s) - ‘model.pt’ saved [149751722/149751722]\n",
            "\n"
          ],
          "name": "stdout"
        }
      ]
    },
    {
      "cell_type": "markdown",
      "metadata": {
        "id": "D_Fg_aMeDnmd"
      },
      "source": [
        "- **Switch off off-screen rendering**"
      ]
    },
    {
      "cell_type": "code",
      "metadata": {
        "id": "S9TmdOBRDXcV"
      },
      "source": [
        "!sed -i 's/offscreen_rendering: True/offscreen_rendering: False/g' argument.yml"
      ],
      "execution_count": 13,
      "outputs": []
    },
    {
      "cell_type": "markdown",
      "metadata": {
        "id": "cCN8L7GiDpZA"
      },
      "source": [
        "- **Please upload `.jpg` files to `/content/3d-photo-inpainting-master/image/`**\n",
        "  - You can run this step multiple times to upload multiple `.jpg` files."
      ]
    },
    {
      "cell_type": "code",
      "metadata": {
        "id": "n-Kl6fo1oows",
        "colab": {
          "resources": {
            "http://localhost:8080/nbextensions/google.colab/files.js": {
              "data": "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",
              "ok": true,
              "headers": [
                [
                  "content-type",
                  "application/javascript"
                ]
              ],
              "status": 200,
              "status_text": ""
            }
          },
          "base_uri": "https://localhost:8080/",
          "height": 127
        },
        "outputId": "c85498dd-abef-462c-930b-d21cdf156cd8"
      },
      "source": [
        "%cd image\n",
        "from google.colab import files\n",
        "uploaded = files.upload()\n",
        "for fn in uploaded.keys():\n",
        "  print('User uploaded file \"{name}\" with length {length} bytes'.format(\n",
        "      name=fn, length=len(uploaded[fn])))\n",
        "%cd .."
      ],
      "execution_count": 14,
      "outputs": [
        {
          "output_type": "stream",
          "text": [
            "/content/3d-photo-inpainting/image\n"
          ],
          "name": "stdout"
        },
        {
          "output_type": "display_data",
          "data": {
            "text/html": [
              "\n",
              "     <input type=\"file\" id=\"files-b3c78f6f-b0ce-40a4-89fb-5519e7d6527e\" name=\"files[]\" multiple disabled\n",
              "        style=\"border:none\" />\n",
              "     <output id=\"result-b3c78f6f-b0ce-40a4-89fb-5519e7d6527e\">\n",
              "      Upload widget is only available when the cell has been executed in the\n",
              "      current browser session. Please rerun this cell to enable.\n",
              "      </output>\n",
              "      <script src=\"/nbextensions/google.colab/files.js\"></script> "
            ],
            "text/plain": [
              "<IPython.core.display.HTML object>"
            ]
          },
          "metadata": {
            "tags": []
          }
        },
        {
          "output_type": "stream",
          "text": [
            "Saving dd.jpg to dd (1).jpg\n",
            "User uploaded file \"dd.jpg\" with length 52325 bytes\n",
            "/content/3d-photo-inpainting\n"
          ],
          "name": "stdout"
        }
      ]
    },
    {
      "cell_type": "markdown",
      "metadata": {
        "id": "wyLFopwVDzUg"
      },
      "source": [
        "- **Execute the 3D Photo Inpainting**\n",
        "  - Note: The 3D photo generation process usually takes about 2-3 minutes or more depending on the available computing resources."
      ]
    },
    {
      "cell_type": "code",
      "metadata": {
        "id": "i5-MWEjfBjYx",
        "colab": {
          "base_uri": "https://localhost:8080/"
        },
        "outputId": "6b8400d3-31d4-41ec-a65d-6d72bd3a9f15"
      },
      "source": [
        "!python main.py --config argument.yml"
      ],
      "execution_count": 15,
      "outputs": [
        {
          "output_type": "stream",
          "text": [
            "running on device 0\n",
            "\r  0% 0/3 [00:00<?, ?it/s]Current Source ==>  dd (1)\n",
            "Running depth extraction at 1607253756.4307325\n",
            "initialize\n",
            "device: cpu\n",
            "start processing\n",
            "  processing image/dd (1).jpg (1/1)\n",
            "torch.Size([1, 3, 352, 384])\n",
            "finished\n",
            "Start Running 3D_Photo ...\n",
            "Loading edge model at 1607253773.1437042\n",
            "Loading depth model at 1607253782.7706375\n",
            "Loading rgb model at 1607253783.5707343\n",
            "Writing depth ply (and basically doing everything) at 1607253784.2981598\n",
            "Writing mesh file mesh/dd (1).ply ...\n",
            "Making video at 1607253958.2338932\n",
            "fov: 53.13010235415598\n",
            "Moviepy - Building video video/dd (1)_dolly-zoom-in.mp4.\n",
            "Moviepy - Writing video video/dd (1)_dolly-zoom-in.mp4\n",
            "\n",
            "  0% 0/3 [03:58<?, ?it/s]\n",
            "t:   0% 0/241 [00:00<?, ?it/s, now=None]\u001b[A\n",
            "t:   1% 2/241 [00:00<00:14, 16.94it/s, now=None]\u001b[A\n",
            "t:   1% 3/241 [00:00<00:18, 13.02it/s, now=None]\u001b[A\n",
            "t:   7% 16/241 [00:00<00:12, 17.80it/s, now=None]\u001b[A\n",
            "t:  13% 31/241 [00:00<00:08, 24.12it/s, now=None]\u001b[A\n",
            "t:  19% 45/241 [00:00<00:06, 31.95it/s, now=None]\u001b[A\n",
            "t:  22% 54/241 [00:00<00:06, 31.06it/s, now=None]\u001b[A\n",
            "t:  26% 62/241 [00:01<00:05, 32.95it/s, now=None]\u001b[A\n",
            "t:  29% 69/241 [00:01<00:05, 32.54it/s, now=None]\u001b[A\n",
            "t:  31% 75/241 [00:01<00:05, 32.76it/s, now=None]\u001b[A\n",
            "t:  33% 80/241 [00:01<00:04, 33.79it/s, now=None]\u001b[A\n",
            "t:  35% 85/241 [00:01<00:04, 35.41it/s, now=None]\u001b[A\n",
            "t:  37% 90/241 [00:01<00:04, 35.46it/s, now=None]\u001b[A\n",
            "t:  39% 95/241 [00:02<00:04, 33.22it/s, now=None]\u001b[A\n",
            "t:  41% 99/241 [00:02<00:04, 33.92it/s, now=None]\u001b[A\n",
            "t:  43% 103/241 [00:02<00:04, 33.63it/s, now=None]\u001b[A\n",
            "t:  44% 107/241 [00:02<00:03, 33.75it/s, now=None]\u001b[A\n",
            "t:  46% 111/241 [00:02<00:03, 34.18it/s, now=None]\u001b[A\n",
            "t:  48% 116/241 [00:02<00:03, 35.11it/s, now=None]\u001b[A\n",
            "t:  50% 120/241 [00:02<00:03, 35.32it/s, now=None]\u001b[A\n",
            "t:  51% 124/241 [00:02<00:03, 34.64it/s, now=None]\u001b[A\n",
            "t:  53% 128/241 [00:03<00:03, 33.80it/s, now=None]\u001b[A\n",
            "t:  55% 132/241 [00:03<00:03, 35.35it/s, now=None]\u001b[A\n",
            "t:  56% 136/241 [00:03<00:02, 35.18it/s, now=None]\u001b[A\n",
            "t:  58% 140/241 [00:03<00:02, 34.61it/s, now=None]\u001b[A\n",
            "t:  60% 144/241 [00:03<00:02, 35.76it/s, now=None]\u001b[A\n",
            "t:  61% 148/241 [00:03<00:02, 35.29it/s, now=None]\u001b[A\n",
            "t:  63% 152/241 [00:03<00:02, 34.19it/s, now=None]\u001b[A\n",
            "t:  65% 156/241 [00:03<00:02, 35.37it/s, now=None]\u001b[A\n",
            "t:  66% 160/241 [00:03<00:02, 35.25it/s, now=None]\u001b[A\n",
            "t:  68% 164/241 [00:04<00:02, 34.21it/s, now=None]\u001b[A\n",
            "t:  70% 168/241 [00:04<00:02, 34.64it/s, now=None]\u001b[A\n",
            "t:  71% 172/241 [00:04<00:01, 35.23it/s, now=None]\u001b[A\n",
            "t:  73% 176/241 [00:04<00:01, 33.39it/s, now=None]\u001b[A\n",
            "t:  75% 180/241 [00:04<00:01, 33.28it/s, now=None]\u001b[A\n",
            "t:  76% 184/241 [00:04<00:01, 33.71it/s, now=None]\u001b[A\n",
            "t:  78% 188/241 [00:04<00:01, 34.47it/s, now=None]\u001b[A\n",
            "t:  80% 192/241 [00:04<00:01, 34.42it/s, now=None]\u001b[A\n",
            "t:  81% 196/241 [00:04<00:01, 31.97it/s, now=None]\u001b[A\n",
            "t:  83% 200/241 [00:05<00:01, 33.58it/s, now=None]\u001b[A\n",
            "t:  85% 204/241 [00:05<00:01, 33.09it/s, now=None]\u001b[A\n",
            "t:  86% 208/241 [00:05<00:00, 33.67it/s, now=None]\u001b[A\n",
            "t:  88% 212/241 [00:05<00:00, 34.07it/s, now=None]\u001b[A\n",
            "t:  90% 216/241 [00:05<00:00, 33.52it/s, now=None]\u001b[A\n",
            "t:  91% 220/241 [00:05<00:00, 34.48it/s, now=None]\u001b[A\n",
            "t:  93% 224/241 [00:05<00:00, 34.38it/s, now=None]\u001b[A\n",
            "t:  95% 228/241 [00:05<00:00, 34.62it/s, now=None]\u001b[A\n",
            "t:  96% 232/241 [00:06<00:00, 34.36it/s, now=None]\u001b[A\n",
            "t:  98% 236/241 [00:06<00:00, 33.85it/s, now=None]\u001b[A\n",
            "t: 100% 240/241 [00:06<00:00, 34.44it/s, now=None]\u001b[A\n",
            "Moviepy - Done !\n",
            "Moviepy - video ready video/dd (1)_dolly-zoom-in.mp4\n",
            "Moviepy - Building video video/dd (1)_zoom-in.mp4.\n",
            "Moviepy - Writing video video/dd (1)_zoom-in.mp4\n",
            "\n",
            "  0% 0/3 [04:40<?, ?it/s]\n",
            "t:   0% 0/241 [00:00<?, ?it/s, now=None]\u001b[A\n",
            "t:   6% 14/241 [00:00<00:01, 136.39it/s, now=None]\u001b[A\n",
            "t:  12% 29/241 [00:00<00:01, 139.24it/s, now=None]\u001b[A\n",
            "t:  18% 44/241 [00:00<00:01, 137.90it/s, now=None]\u001b[A\n",
            "t:  22% 54/241 [00:00<00:02, 67.64it/s, now=None] \u001b[A\n",
            "t:  26% 62/241 [00:00<00:03, 54.39it/s, now=None]\u001b[A\n",
            "t:  29% 69/241 [00:01<00:03, 44.47it/s, now=None]\u001b[A\n",
            "t:  31% 75/241 [00:01<00:04, 38.95it/s, now=None]\u001b[A\n",
            "t:  33% 80/241 [00:01<00:04, 38.26it/s, now=None]\u001b[A\n",
            "t:  35% 85/241 [00:01<00:04, 35.81it/s, now=None]\u001b[A\n",
            "t:  37% 89/241 [00:01<00:04, 35.80it/s, now=None]\u001b[A\n",
            "t:  39% 93/241 [00:01<00:04, 36.75it/s, now=None]\u001b[A\n",
            "t:  40% 97/241 [00:01<00:04, 35.33it/s, now=None]\u001b[A\n",
            "t:  42% 101/241 [00:02<00:04, 34.91it/s, now=None]\u001b[A\n",
            "t:  44% 105/241 [00:02<00:03, 34.94it/s, now=None]\u001b[A\n",
            "t:  45% 109/241 [00:02<00:04, 31.96it/s, now=None]\u001b[A\n",
            "t:  47% 113/241 [00:02<00:03, 32.35it/s, now=None]\u001b[A\n",
            "t:  49% 118/241 [00:02<00:03, 34.67it/s, now=None]\u001b[A\n",
            "t:  51% 122/241 [00:02<00:03, 35.58it/s, now=None]\u001b[A\n",
            "t:  52% 126/241 [00:02<00:03, 35.09it/s, now=None]\u001b[A\n",
            "t:  54% 130/241 [00:02<00:03, 32.70it/s, now=None]\u001b[A\n",
            "t:  56% 135/241 [00:03<00:03, 32.63it/s, now=None]\u001b[A\n",
            "t:  58% 139/241 [00:03<00:02, 34.53it/s, now=None]\u001b[A\n",
            "t:  59% 143/241 [00:03<00:02, 33.80it/s, now=None]\u001b[A\n",
            "t:  61% 147/241 [00:03<00:02, 33.34it/s, now=None]\u001b[A\n",
            "t:  63% 151/241 [00:03<00:02, 33.81it/s, now=None]\u001b[A\n",
            "t:  64% 155/241 [00:03<00:02, 35.05it/s, now=None]\u001b[A\n",
            "t:  66% 159/241 [00:03<00:02, 34.36it/s, now=None]\u001b[A\n",
            "t:  68% 163/241 [00:03<00:02, 33.38it/s, now=None]\u001b[A\n",
            "t:  69% 167/241 [00:03<00:02, 32.64it/s, now=None]\u001b[A\n",
            "t:  71% 171/241 [00:04<00:02, 33.53it/s, now=None]\u001b[A\n",
            "t:  73% 175/241 [00:04<00:01, 33.52it/s, now=None]\u001b[A\n",
            "t:  74% 179/241 [00:04<00:01, 33.55it/s, now=None]\u001b[A\n",
            "t:  76% 183/241 [00:04<00:01, 34.59it/s, now=None]\u001b[A\n",
            "t:  78% 187/241 [00:04<00:01, 33.77it/s, now=None]\u001b[A\n",
            "t:  79% 191/241 [00:04<00:01, 33.54it/s, now=None]\u001b[A\n",
            "t:  81% 195/241 [00:04<00:01, 33.72it/s, now=None]\u001b[A\n",
            "t:  83% 199/241 [00:04<00:01, 33.82it/s, now=None]\u001b[A\n",
            "t:  84% 203/241 [00:05<00:01, 32.39it/s, now=None]\u001b[A\n",
            "t:  86% 207/241 [00:05<00:01, 32.92it/s, now=None]\u001b[A\n",
            "t:  88% 211/241 [00:05<00:00, 33.35it/s, now=None]\u001b[A\n",
            "t:  89% 215/241 [00:05<00:00, 33.26it/s, now=None]\u001b[A\n",
            "t:  91% 219/241 [00:05<00:00, 33.54it/s, now=None]\u001b[A\n",
            "t:  93% 223/241 [00:05<00:00, 33.22it/s, now=None]\u001b[A\n",
            "t:  94% 227/241 [00:05<00:00, 33.43it/s, now=None]\u001b[A\n",
            "t:  96% 231/241 [00:05<00:00, 33.40it/s, now=None]\u001b[A\n",
            "t:  98% 235/241 [00:06<00:00, 33.21it/s, now=None]\u001b[A\n",
            "t:  99% 239/241 [00:06<00:00, 32.92it/s, now=None]\u001b[A\n",
            "Moviepy - Done !\n",
            "Moviepy - video ready video/dd (1)_zoom-in.mp4\n",
            "Moviepy - Building video video/dd (1)_circle.mp4.\n",
            "Moviepy - Writing video video/dd (1)_circle.mp4\n",
            "\n",
            "  0% 0/3 [05:21<?, ?it/s]\n",
            "t:   0% 0/241 [00:00<?, ?it/s, now=None]\u001b[A\n",
            "t:   6% 14/241 [00:00<00:01, 136.42it/s, now=None]\u001b[A\n",
            "t:  12% 28/241 [00:00<00:01, 135.99it/s, now=None]\u001b[A\n",
            "t:  18% 44/241 [00:00<00:01, 137.15it/s, now=None]\u001b[A\n",
            "t:  22% 54/241 [00:00<00:03, 55.32it/s, now=None] \u001b[A\n",
            "t:  26% 62/241 [00:00<00:03, 46.14it/s, now=None]\u001b[A\n",
            "t:  28% 68/241 [00:01<00:04, 36.35it/s, now=None]\u001b[A\n",
            "t:  30% 73/241 [00:01<00:04, 34.47it/s, now=None]\u001b[A\n",
            "t:  32% 78/241 [00:01<00:05, 30.56it/s, now=None]\u001b[A\n",
            "t:  34% 82/241 [00:01<00:04, 32.07it/s, now=None]\u001b[A\n",
            "t:  36% 86/241 [00:01<00:04, 31.71it/s, now=None]\u001b[A\n",
            "t:  37% 90/241 [00:01<00:04, 30.22it/s, now=None]\u001b[A\n",
            "t:  39% 94/241 [00:02<00:05, 28.04it/s, now=None]\u001b[A\n",
            "t:  41% 98/241 [00:02<00:05, 27.26it/s, now=None]\u001b[A\n",
            "t:  42% 102/241 [00:02<00:04, 29.01it/s, now=None]\u001b[A\n",
            "t:  44% 106/241 [00:02<00:04, 29.41it/s, now=None]\u001b[A\n",
            "t:  46% 110/241 [00:02<00:04, 28.69it/s, now=None]\u001b[A\n",
            "t:  47% 114/241 [00:02<00:04, 29.30it/s, now=None]\u001b[A\n",
            "t:  49% 117/241 [00:02<00:04, 29.03it/s, now=None]\u001b[A\n",
            "t:  50% 120/241 [00:03<00:04, 27.72it/s, now=None]\u001b[A\n",
            "t:  51% 123/241 [00:03<00:04, 27.91it/s, now=None]\u001b[A\n",
            "t:  52% 126/241 [00:03<00:04, 28.31it/s, now=None]\u001b[A\n",
            "t:  54% 130/241 [00:03<00:04, 26.92it/s, now=None]\u001b[A\n",
            "t:  56% 135/241 [00:03<00:03, 28.08it/s, now=None]\u001b[A\n",
            "t:  58% 139/241 [00:03<00:03, 28.65it/s, now=None]\u001b[A\n",
            "t:  59% 143/241 [00:03<00:03, 28.29it/s, now=None]\u001b[A\n",
            "t:  61% 147/241 [00:04<00:03, 28.71it/s, now=None]\u001b[A\n",
            "t:  63% 151/241 [00:04<00:03, 28.31it/s, now=None]\u001b[A\n",
            "t:  64% 155/241 [00:04<00:03, 28.28it/s, now=None]\u001b[A\n",
            "t:  66% 159/241 [00:04<00:02, 28.59it/s, now=None]\u001b[A\n",
            "t:  68% 163/241 [00:04<00:02, 29.14it/s, now=None]\u001b[A\n",
            "t:  69% 167/241 [00:04<00:02, 29.15it/s, now=None]\u001b[A\n",
            "t:  71% 171/241 [00:04<00:02, 29.57it/s, now=None]\u001b[A\n",
            "t:  73% 175/241 [00:04<00:02, 29.45it/s, now=None]\u001b[A\n",
            "t:  74% 179/241 [00:05<00:02, 29.26it/s, now=None]\u001b[A\n",
            "t:  76% 183/241 [00:05<00:01, 29.14it/s, now=None]\u001b[A\n",
            "t:  77% 186/241 [00:05<00:01, 28.98it/s, now=None]\u001b[A\n",
            "t:  79% 190/241 [00:05<00:01, 30.92it/s, now=None]\u001b[A\n",
            "t:  80% 194/241 [00:05<00:01, 28.06it/s, now=None]\u001b[A\n",
            "t:  82% 197/241 [00:05<00:01, 28.09it/s, now=None]\u001b[A\n",
            "t:  83% 200/241 [00:05<00:01, 27.11it/s, now=None]\u001b[A\n",
            "t:  84% 203/241 [00:05<00:01, 27.20it/s, now=None]\u001b[A\n",
            "t:  86% 207/241 [00:06<00:01, 26.83it/s, now=None]\u001b[A\n",
            "t:  88% 211/241 [00:06<00:01, 26.73it/s, now=None]\u001b[A\n",
            "t:  89% 215/241 [00:06<00:00, 27.26it/s, now=None]\u001b[A\n",
            "t:  91% 219/241 [00:06<00:00, 27.23it/s, now=None]\u001b[A\n",
            "t:  93% 223/241 [00:06<00:00, 27.96it/s, now=None]\u001b[A\n",
            "t:  94% 227/241 [00:06<00:00, 28.35it/s, now=None]\u001b[A\n",
            "t:  96% 231/241 [00:06<00:00, 28.34it/s, now=None]\u001b[A\n",
            "t:  98% 235/241 [00:07<00:00, 28.55it/s, now=None]\u001b[A\n",
            "t:  99% 239/241 [00:07<00:00, 28.82it/s, now=None]\u001b[A\n",
            "Moviepy - Done !\n",
            "Moviepy - video ready video/dd (1)_circle.mp4\n",
            "Moviepy - Building video video/dd (1)_swing.mp4.\n",
            "Moviepy - Writing video video/dd (1)_swing.mp4\n",
            "\n",
            "  0% 0/3 [06:04<?, ?it/s]\n",
            "t:   0% 0/241 [00:00<?, ?it/s, now=None]\u001b[A\n",
            "t:   7% 17/241 [00:00<00:01, 164.00it/s, now=None]\u001b[A\n",
            "t:  13% 31/241 [00:00<00:01, 154.99it/s, now=None]\u001b[A\n",
            "t:  18% 44/241 [00:00<00:01, 146.48it/s, now=None]\u001b[A\n",
            "t:  22% 54/241 [00:00<00:03, 57.03it/s, now=None] \u001b[A\n",
            "t:  26% 62/241 [00:00<00:03, 47.26it/s, now=None]\u001b[A\n",
            "t:  29% 69/241 [00:01<00:04, 40.00it/s, now=None]\u001b[A\n",
            "t:  31% 75/241 [00:01<00:04, 37.59it/s, now=None]\u001b[A\n",
            "t:  33% 80/241 [00:01<00:05, 30.94it/s, now=None]\u001b[A\n",
            "t:  35% 84/241 [00:01<00:05, 30.32it/s, now=None]\u001b[A\n",
            "t:  37% 88/241 [00:01<00:05, 29.94it/s, now=None]\u001b[A\n",
            "t:  38% 92/241 [00:02<00:05, 29.60it/s, now=None]\u001b[A\n",
            "t:  40% 96/241 [00:02<00:04, 29.74it/s, now=None]\u001b[A\n",
            "t:  41% 100/241 [00:02<00:04, 28.97it/s, now=None]\u001b[A\n",
            "t:  43% 104/241 [00:02<00:04, 28.82it/s, now=None]\u001b[A\n",
            "t:  45% 108/241 [00:02<00:04, 29.00it/s, now=None]\u001b[A\n",
            "t:  46% 112/241 [00:02<00:04, 28.91it/s, now=None]\u001b[A\n",
            "t:  48% 116/241 [00:02<00:04, 28.86it/s, now=None]\u001b[A\n",
            "t:  50% 120/241 [00:03<00:04, 28.92it/s, now=None]\u001b[A\n",
            "t:  51% 124/241 [00:03<00:03, 29.37it/s, now=None]\u001b[A\n",
            "t:  53% 128/241 [00:03<00:03, 29.43it/s, now=None]\u001b[A\n",
            "t:  54% 131/241 [00:03<00:03, 29.38it/s, now=None]\u001b[A\n",
            "t:  56% 135/241 [00:03<00:03, 30.20it/s, now=None]\u001b[A\n",
            "t:  58% 139/241 [00:03<00:03, 31.22it/s, now=None]\u001b[A\n",
            "t:  59% 143/241 [00:03<00:03, 29.83it/s, now=None]\u001b[A\n",
            "t:  61% 147/241 [00:03<00:03, 28.85it/s, now=None]\u001b[A\n",
            "t:  62% 150/241 [00:04<00:03, 27.23it/s, now=None]\u001b[A\n",
            "t:  63% 153/241 [00:04<00:03, 27.53it/s, now=None]\u001b[A\n",
            "t:  65% 156/241 [00:04<00:03, 27.22it/s, now=None]\u001b[A\n",
            "t:  66% 160/241 [00:04<00:02, 27.57it/s, now=None]\u001b[A\n",
            "t:  68% 164/241 [00:04<00:02, 28.62it/s, now=None]\u001b[A\n",
            "t:  70% 168/241 [00:04<00:02, 30.54it/s, now=None]\u001b[A\n",
            "t:  72% 173/241 [00:04<00:02, 32.08it/s, now=None]\u001b[A\n",
            "t:  73% 177/241 [00:04<00:01, 32.18it/s, now=None]\u001b[A\n",
            "t:  75% 181/241 [00:05<00:01, 31.07it/s, now=None]\u001b[A\n",
            "t:  77% 185/241 [00:05<00:01, 30.55it/s, now=None]\u001b[A\n",
            "t:  78% 189/241 [00:05<00:01, 29.66it/s, now=None]\u001b[A\n",
            "t:  80% 192/241 [00:05<00:01, 29.45it/s, now=None]\u001b[A\n",
            "t:  81% 196/241 [00:05<00:01, 28.51it/s, now=None]\u001b[A\n",
            "t:  83% 200/241 [00:05<00:01, 28.03it/s, now=None]\u001b[A\n",
            "t:  85% 204/241 [00:05<00:01, 27.66it/s, now=None]\u001b[A\n",
            "t:  86% 208/241 [00:06<00:01, 27.55it/s, now=None]\u001b[A\n",
            "t:  88% 212/241 [00:06<00:01, 27.85it/s, now=None]\u001b[A\n",
            "t:  90% 216/241 [00:06<00:00, 27.25it/s, now=None]\u001b[A\n",
            "t:  91% 220/241 [00:06<00:00, 27.45it/s, now=None]\u001b[A\n",
            "t:  93% 223/241 [00:06<00:00, 28.02it/s, now=None]\u001b[A\n",
            "t:  94% 227/241 [00:06<00:00, 30.37it/s, now=None]\u001b[A\n",
            "t:  96% 231/241 [00:06<00:00, 28.41it/s, now=None]\u001b[A\n",
            "t:  97% 234/241 [00:06<00:00, 26.26it/s, now=None]\u001b[A\n",
            "t:  99% 238/241 [00:07<00:00, 27.96it/s, now=None]\u001b[A\n",
            "t: 100% 241/241 [00:07<00:00, 27.49it/s, now=None]\u001b[A\n",
            "Moviepy - Done !\n",
            "Moviepy - video ready video/dd (1)_swing.mp4\n",
            " 33% 1/3 [06:12<12:25, 372.71s/it]Current Source ==>  dd\n",
            "Running depth extraction at 1607254129.144931\n",
            "initialize\n",
            "device: cpu\n",
            "start processing\n",
            "  processing image/dd.jpg (1/1)\n",
            "torch.Size([1, 3, 352, 384])\n",
            "finished\n",
            "Start Running 3D_Photo ...\n",
            "Loading edge model at 1607254149.2390788\n",
            "Loading depth model at 1607254150.6509335\n",
            "Loading rgb model at 1607254156.8755245\n",
            "Writing depth ply (and basically doing everything) at 1607254163.7310827\n",
            "Writing mesh file mesh/dd.ply ...\n",
            "Making video at 1607254349.1539996\n",
            "fov: 53.13010235415598\n",
            "Moviepy - Building video video/dd_dolly-zoom-in.mp4.\n",
            "Moviepy - Writing video video/dd_dolly-zoom-in.mp4\n",
            "\n",
            " 33% 1/3 [10:28<12:25, 372.71s/it]\n",
            "t:   0% 0/241 [00:00<?, ?it/s, now=None]\u001b[A\n",
            "t:   1% 2/241 [00:00<00:43,  5.56it/s, now=None]\u001b[A\n",
            "t:   1% 3/241 [00:00<00:37,  6.28it/s, now=None]\u001b[A\n",
            "t:   7% 17/241 [00:00<00:25,  8.79it/s, now=None]\u001b[A\n",
            "t:  13% 31/241 [00:00<00:17, 12.22it/s, now=None]\u001b[A\n",
            "t:  18% 44/241 [00:00<00:11, 16.73it/s, now=None]\u001b[A\n",
            "t:  22% 53/241 [00:01<00:09, 19.55it/s, now=None]\u001b[A\n",
            "t:  25% 60/241 [00:01<00:08, 22.32it/s, now=None]\u001b[A\n",
            "t:  27% 66/241 [00:01<00:06, 25.08it/s, now=None]\u001b[A\n",
            "t:  30% 72/241 [00:01<00:06, 26.95it/s, now=None]\u001b[A\n",
            "t:  32% 77/241 [00:01<00:05, 28.84it/s, now=None]\u001b[A\n",
            "t:  34% 82/241 [00:01<00:05, 30.73it/s, now=None]\u001b[A\n",
            "t:  36% 87/241 [00:02<00:04, 31.17it/s, now=None]\u001b[A\n",
            "t:  38% 91/241 [00:02<00:04, 32.65it/s, now=None]\u001b[A\n",
            "t:  39% 95/241 [00:02<00:04, 34.05it/s, now=None]\u001b[A\n",
            "t:  41% 99/241 [00:02<00:04, 34.14it/s, now=None]\u001b[A\n",
            "t:  43% 103/241 [00:02<00:04, 33.06it/s, now=None]\u001b[A\n",
            "t:  44% 107/241 [00:02<00:04, 33.13it/s, now=None]\u001b[A\n",
            "t:  46% 111/241 [00:02<00:03, 33.01it/s, now=None]\u001b[A\n",
            "t:  48% 115/241 [00:02<00:03, 32.58it/s, now=None]\u001b[A\n",
            "t:  49% 119/241 [00:03<00:03, 33.38it/s, now=None]\u001b[A\n",
            "t:  51% 123/241 [00:03<00:03, 32.85it/s, now=None]\u001b[A\n",
            "t:  53% 127/241 [00:03<00:03, 32.49it/s, now=None]\u001b[A\n",
            "t:  54% 131/241 [00:03<00:03, 31.57it/s, now=None]\u001b[A\n",
            "t:  56% 135/241 [00:03<00:03, 32.04it/s, now=None]\u001b[A\n",
            "t:  58% 139/241 [00:03<00:03, 32.57it/s, now=None]\u001b[A\n",
            "t:  59% 143/241 [00:03<00:02, 33.25it/s, now=None]\u001b[A\n",
            "t:  61% 147/241 [00:03<00:02, 32.60it/s, now=None]\u001b[A\n",
            "t:  63% 151/241 [00:04<00:02, 33.11it/s, now=None]\u001b[A\n",
            "t:  64% 155/241 [00:04<00:02, 32.84it/s, now=None]\u001b[A\n",
            "t:  66% 159/241 [00:04<00:02, 33.16it/s, now=None]\u001b[A\n",
            "t:  68% 163/241 [00:04<00:02, 34.24it/s, now=None]\u001b[A\n",
            "t:  69% 167/241 [00:04<00:02, 34.01it/s, now=None]\u001b[A\n",
            "t:  71% 171/241 [00:04<00:02, 33.76it/s, now=None]\u001b[A\n",
            "t:  73% 175/241 [00:04<00:01, 34.94it/s, now=None]\u001b[A\n",
            "t:  74% 179/241 [00:04<00:01, 35.44it/s, now=None]\u001b[A\n",
            "t:  76% 183/241 [00:04<00:01, 34.32it/s, now=None]\u001b[A\n",
            "t:  78% 187/241 [00:05<00:01, 35.22it/s, now=None]\u001b[A\n",
            "t:  79% 191/241 [00:05<00:01, 32.71it/s, now=None]\u001b[A\n",
            "t:  81% 195/241 [00:05<00:01, 33.32it/s, now=None]\u001b[A\n",
            "t:  83% 199/241 [00:05<00:01, 33.05it/s, now=None]\u001b[A\n",
            "t:  84% 203/241 [00:05<00:01, 33.09it/s, now=None]\u001b[A\n",
            "t:  86% 207/241 [00:05<00:00, 34.72it/s, now=None]\u001b[A\n",
            "t:  88% 211/241 [00:05<00:00, 33.85it/s, now=None]\u001b[A\n",
            "t:  89% 215/241 [00:05<00:00, 33.89it/s, now=None]\u001b[A\n",
            "t:  91% 219/241 [00:05<00:00, 34.45it/s, now=None]\u001b[A\n",
            "t:  93% 223/241 [00:06<00:00, 33.25it/s, now=None]\u001b[A\n",
            "t:  94% 227/241 [00:06<00:00, 33.80it/s, now=None]\u001b[A\n",
            "t:  96% 231/241 [00:06<00:00, 34.34it/s, now=None]\u001b[A\n",
            "t:  98% 235/241 [00:06<00:00, 34.83it/s, now=None]\u001b[A\n",
            "t:  99% 239/241 [00:06<00:00, 33.89it/s, now=None]\u001b[A\n",
            "Moviepy - Done !\n",
            "Moviepy - video ready video/dd_dolly-zoom-in.mp4\n",
            " 33% 1/3 [10:36<12:25, 372.71s/it]^C\n"
          ],
          "name": "stdout"
        }
      ]
    },
    {
      "cell_type": "markdown",
      "metadata": {
        "id": "wPvkMT0msIJB"
      },
      "source": [
        "- **The results are stored in the following directories**\n",
        "  - Corresponding depth map estimated by [MiDaS](https://github.com/intel-isl/MiDaS.git) \n",
        "      - E.g. ```/content/3d-photo-inpainting/depth/moon.npy```\n",
        "  - Inpainted 3D mesh\n",
        "      - E.g. ```/content/3d-photo-inpainting/mesh/moon.ply```\n",
        "  - Rendered videos with zoom-in motion\n",
        "      - E.g. ```/content/3d-photo-inpainting/video/moon_zoom-in.mp4```\n",
        "  - Rendered videos with swing motion\n",
        "      - E.g. ```/content/3d-photo-inpainting/video/moon_swing.mp4```\n",
        "  - Rendered videos with circle motion\n",
        "      - E.g. ```/content/3d-photo-inpainting/video/moon_circle.mp4```\n",
        "  \n",
        "    ![](https://drive.google.com/uc?id=1xBiZAeGfhsoAsG08N5UM8-f993p0G5HF)"
      ]
    },
    {
      "cell_type": "code",
      "metadata": {
        "id": "5GHETrcnyVqb"
      },
      "source": [
        ""
      ],
      "execution_count": null,
      "outputs": []
    }
  ]
}